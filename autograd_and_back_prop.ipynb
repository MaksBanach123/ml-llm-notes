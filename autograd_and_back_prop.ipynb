{
  "nbformat": 4,
  "nbformat_minor": 0,
  "metadata": {
    "colab": {
      "provenance": [],
      "gpuType": "T4"
    },
    "kernelspec": {
      "name": "python3",
      "display_name": "Python 3"
    },
    "language_info": {
      "name": "python"
    },
    "accelerator": "GPU"
  },
  "cells": [
    {
      "cell_type": "markdown",
      "source": [
        "#PyTorch - wiadomości teoretyczne wstępne.\n",
        "\n",
        "Do optymalizacji parametrów (wag) sieci neuronowej podczas treningu modelu wykorzystuje się **metodę stochastycznego spadku wzdłuż gradientu**.\n",
        "Gradient funkcji straty względem parametrów sieci wyznaczany jest algorytmem **propagacji wstecznej** (*back propagation*).\n",
        "\n",
        "Sieć neuronowa jest niczym innym jak złożoną funkcją mapującą wejściowe dane $x \\in \\mathcal{X}$ (np. obraz czy sekwencjęaudio) na wyjście $y \\in \\mathcal{Y}$, parametryzowaną zestawem paarametrów (wag) $\\theta$.\n",
        "$$\n",
        "f_{\\theta}( x ) = y\n",
        "$$\n",
        "W przypadku $n$-klasowego klasyfikatora wyjściem z sieci jest wektor $y \\in \\mathbb{R}^n$ nieznormalizowanych wartości, zwanych logitami. Z nich możemy wyznaczyć rozkład prawdopodobieństwa klas korzystając z funkcji softmax.\n",
        "\n",
        "W jednym kroku treningu sieci neuronowych wykonujemy:\n",
        "1. **Przejście w przód** - przetworzenie zestawu wejściowych danych treningowych przez sieć i wyznaczenie wartości wynikowych $y = f_{\\theta}(x)$. Następnie wyznaczenie wartości funkcji straty\n",
        "$\\mathcal{L}$\n",
        "w oparciu o wynikową wartość z sieci i prawdziwą (docelową) wartość.\n",
        "2. **Przejście w tył** (propagacja wsteczna) - wyznaczenie **gradientu funkcji  straty** $\\mathcal{L}$ **względem parametrów sieci** $\\theta$.\n",
        "3. **Krok optymalizacji parametrów sieci** - zmiana w kierunku przeciwnym do gradientu.\n",
        "\n"
      ],
      "metadata": {
        "id": "fu0jD24m_B02"
      }
    },
    {
      "cell_type": "markdown",
      "source": [
        "##Przygotowanie środowiska\n",
        "Upewnij się, że notatnik jest uruchomiony na maszynie z GPU. Jeśli GPU nie jest dostępne zmień typ maszyny (Runtime | Change runtime type) i wybierz T4 GPU."
      ],
      "metadata": {
        "id": "dkkhudhPAttn"
      }
    },
    {
      "cell_type": "code",
      "source": [
        "!nvidia-smi"
      ],
      "metadata": {
        "colab": {
          "base_uri": "https://localhost:8080/"
        },
        "id": "UtyIQMl_Axe7",
        "outputId": "b4ba5b61-be20-4347-dabc-3653b0459566"
      },
      "execution_count": 1,
      "outputs": [
        {
          "output_type": "stream",
          "name": "stdout",
          "text": [
            "Tue Mar  4 19:30:46 2025       \n",
            "+-----------------------------------------------------------------------------------------+\n",
            "| NVIDIA-SMI 550.54.15              Driver Version: 550.54.15      CUDA Version: 12.4     |\n",
            "|-----------------------------------------+------------------------+----------------------+\n",
            "| GPU  Name                 Persistence-M | Bus-Id          Disp.A | Volatile Uncorr. ECC |\n",
            "| Fan  Temp   Perf          Pwr:Usage/Cap |           Memory-Usage | GPU-Util  Compute M. |\n",
            "|                                         |                        |               MIG M. |\n",
            "|=========================================+========================+======================|\n",
            "|   0  Tesla T4                       Off |   00000000:00:04.0 Off |                    0 |\n",
            "| N/A   41C    P8              9W /   70W |       0MiB /  15360MiB |      0%      Default |\n",
            "|                                         |                        |                  N/A |\n",
            "+-----------------------------------------+------------------------+----------------------+\n",
            "                                                                                         \n",
            "+-----------------------------------------------------------------------------------------+\n",
            "| Processes:                                                                              |\n",
            "|  GPU   GI   CI        PID   Type   Process name                              GPU Memory |\n",
            "|        ID   ID                                                               Usage      |\n",
            "|=========================================================================================|\n",
            "|  No running processes found                                                             |\n",
            "+-----------------------------------------------------------------------------------------+\n"
          ]
        }
      ]
    },
    {
      "cell_type": "markdown",
      "source": [
        "Bibliotek PyTorch jest domyślnie zainstalowana w środowisku COLAB."
      ],
      "metadata": {
        "id": "D0b9qaEHBFRk"
      }
    },
    {
      "cell_type": "code",
      "source": [
        "import torch # PyTorch\n",
        "import numpy as np\n",
        "\n",
        "print(f\"Wersja biblioteki PyTorch {torch.__version__}\")"
      ],
      "metadata": {
        "colab": {
          "base_uri": "https://localhost:8080/"
        },
        "id": "TbTCk7-TBLmq",
        "outputId": "65c92559-3da2-4105-a6e5-c2ab2dcb4424"
      },
      "execution_count": 2,
      "outputs": [
        {
          "output_type": "stream",
          "name": "stdout",
          "text": [
            "Wersja biblioteki PyTorch 2.5.1+cu124\n"
          ]
        }
      ]
    },
    {
      "cell_type": "markdown",
      "source": [
        "Sprawdzenie dostępnego urządzenia GPU:"
      ],
      "metadata": {
        "id": "WlTb5ye5BgFd"
      }
    },
    {
      "cell_type": "code",
      "source": [
        "print(f\"Dostępność GPU: {torch.cuda.is_available()}\")\n",
        "print(f\"Typ GPU: {torch.cuda.get_device_name(0)}\")"
      ],
      "metadata": {
        "colab": {
          "base_uri": "https://localhost:8080/"
        },
        "id": "7oryo980BlR7",
        "outputId": "617d738e-4cea-4f58-dd20-009c039eeb8a"
      },
      "execution_count": 3,
      "outputs": [
        {
          "output_type": "stream",
          "name": "stdout",
          "text": [
            "Dostępność GPU: True\n",
            "Typ GPU: Tesla T4\n"
          ]
        }
      ]
    },
    {
      "cell_type": "markdown",
      "source": [
        "Instalacja pakietu torchviz do wizualizacji grafów obliczeń ([link](https://github.com/szagoruyko/pytorchviz))."
      ],
      "metadata": {
        "id": "TNsZ8VcPB3es"
      }
    },
    {
      "cell_type": "code",
      "source": [
        "!pip install -q torchviz"
      ],
      "metadata": {
        "id": "65QLHpguCC2d",
        "colab": {
          "base_uri": "https://localhost:8080/"
        },
        "outputId": "4a79d05b-a8b5-4dff-e07d-62d814e3cbeb"
      },
      "execution_count": 4,
      "outputs": [
        {
          "output_type": "stream",
          "name": "stdout",
          "text": [
            "\u001b[2K   \u001b[90m━━━━━━━━━━━━━━━━━━━━━━━━━━━━━━━━━━━━━━━━\u001b[0m \u001b[32m363.4/363.4 MB\u001b[0m \u001b[31m4.3 MB/s\u001b[0m eta \u001b[36m0:00:00\u001b[0m\n",
            "\u001b[2K   \u001b[90m━━━━━━━━━━━━━━━━━━━━━━━━━━━━━━━━━━━━━━━━\u001b[0m \u001b[32m13.8/13.8 MB\u001b[0m \u001b[31m79.8 MB/s\u001b[0m eta \u001b[36m0:00:00\u001b[0m\n",
            "\u001b[2K   \u001b[90m━━━━━━━━━━━━━━━━━━━━━━━━━━━━━━━━━━━━━━━━\u001b[0m \u001b[32m24.6/24.6 MB\u001b[0m \u001b[31m76.1 MB/s\u001b[0m eta \u001b[36m0:00:00\u001b[0m\n",
            "\u001b[2K   \u001b[90m━━━━━━━━━━━━━━━━━━━━━━━━━━━━━━━━━━━━━━━━\u001b[0m \u001b[32m883.7/883.7 kB\u001b[0m \u001b[31m53.8 MB/s\u001b[0m eta \u001b[36m0:00:00\u001b[0m\n",
            "\u001b[2K   \u001b[90m━━━━━━━━━━━━━━━━━━━━━━━━━━━━━━━━━━━━━━━━\u001b[0m \u001b[32m664.8/664.8 MB\u001b[0m \u001b[31m1.9 MB/s\u001b[0m eta \u001b[36m0:00:00\u001b[0m\n",
            "\u001b[2K   \u001b[90m━━━━━━━━━━━━━━━━━━━━━━━━━━━━━━━━━━━━━━━━\u001b[0m \u001b[32m211.5/211.5 MB\u001b[0m \u001b[31m5.2 MB/s\u001b[0m eta \u001b[36m0:00:00\u001b[0m\n",
            "\u001b[2K   \u001b[90m━━━━━━━━━━━━━━━━━━━━━━━━━━━━━━━━━━━━━━━━\u001b[0m \u001b[32m56.3/56.3 MB\u001b[0m \u001b[31m9.9 MB/s\u001b[0m eta \u001b[36m0:00:00\u001b[0m\n",
            "\u001b[2K   \u001b[90m━━━━━━━━━━━━━━━━━━━━━━━━━━━━━━━━━━━━━━━━\u001b[0m \u001b[32m127.9/127.9 MB\u001b[0m \u001b[31m8.3 MB/s\u001b[0m eta \u001b[36m0:00:00\u001b[0m\n",
            "\u001b[2K   \u001b[90m━━━━━━━━━━━━━━━━━━━━━━━━━━━━━━━━━━━━━━━━\u001b[0m \u001b[32m207.5/207.5 MB\u001b[0m \u001b[31m6.7 MB/s\u001b[0m eta \u001b[36m0:00:00\u001b[0m\n",
            "\u001b[2K   \u001b[90m━━━━━━━━━━━━━━━━━━━━━━━━━━━━━━━━━━━━━━━━\u001b[0m \u001b[32m21.1/21.1 MB\u001b[0m \u001b[31m55.0 MB/s\u001b[0m eta \u001b[36m0:00:00\u001b[0m\n",
            "\u001b[?25h"
          ]
        }
      ]
    },
    {
      "cell_type": "markdown",
      "source": [
        "#Automatyczne różniczkowanie (`torch.autograd`)"
      ],
      "metadata": {
        "id": "b5rrk5AmCsLl"
      }
    },
    {
      "cell_type": "markdown",
      "source": [
        "**Gradient** (lub gradientowe pole wektorowe) funkcji skalarnej wielu zmiennych $\n",
        "f: \\mathbb{R}^D → \\mathbb{R}\n",
        "$ oznaczamy\n",
        "$\\nabla f$ (czytaj: nabla).\n",
        "W układzie współrzędnych kartezjańskich gradient jest wektorem, którego składowe są pochodnymi cząstkowymi funkcji $f$:\n",
        "$$\\nabla f=\\left[{\\frac {\\partial f}{\\partial x_{1}}},\\dots ,{\\frac {\\partial f}{\\partial x_{n}}}\\right]$$\n",
        "\n",
        "Niech $\\mathcal{L}: \\mathbb{R}^D \\rightarrow \\mathbb{R}$ będzie pewną funkcją straty określoną dla sieci neuronowej o $D$ parametrach (wagach).\n",
        "Celem treningu sieci neuronowej jest znalezienie zestawu parametrów $\\mathbf{\\hat{w}} \\in \\mathbb{R}^D$ minimalizującego wartość funkcji straty:\n",
        "$$\\mathbf{\\hat{w}} = \\arg \\min_{\\textbf{w}} \\mathcal{L} \\left( \\textbf{w} \\right)$$\n",
        "W metodzie **spadku wzdłuż gradientu** zaczynamy od losowo zainicjalizowanych parametrów (wag) sieci $\\textbf{w}_0$ a następnie iteracyjnie aktualizujemy parametry sieci w kierunku przeciwnym do wartości gradientu:\n",
        "$$\n",
        "\\mathbf{w}_{t+1} = \\mathbf{w}_{t} - \\eta \\nabla \\mathcal{L} \\left( \\mathbf{w}_t \\right)\n",
        "$$\n",
        "\n",
        "\n",
        "\n"
      ],
      "metadata": {
        "id": "JUxtuuCrCg8O"
      }
    },
    {
      "cell_type": "markdown",
      "source": [
        "Aby wyznaczyć **gradient funkcji straty względem parametrów sieci**, PyTorch posiada wbudowany mechanizm różniczkowania o nazwie `torch.autograd`. Umożliwia on automatyczne obliczanie gradientu dla dowolnego grafu obliczeniowego.\n",
        "\n",
        "Obiekty typu Tensor posiadają logiczną flagę `requires_grad`.\n",
        "Domyślnie flaga `requires_grad` jest ustawiana na `False`.\n",
        "Po jej włączeniu PyTorch będzie automatycznie budował grafy dla wszystkich obliczeń wykonanych z wykorzystaniem tego tensora aby umożliwić automatyczne wyznaczanie gradientu.\n",
        "Jeśli jeden z argumentów operacji na tensorach ma ustawioną flagę `requires_grad`, wynik również będzie miał ustawioną tę flagę."
      ],
      "metadata": {
        "id": "tazN2AFyDUCs"
      }
    },
    {
      "cell_type": "code",
      "source": [
        "x = torch.tensor([ 1., 2. ])\n",
        "y = torch.tensor([ 4., 5. ])\n",
        "z = torch.tensor([ 7., 3. ])\n",
        "print(f\"{x.requires_grad=}\")\n",
        "print(f\"{y.requires_grad=}\")\n",
        "print(f\"{(x + y).requires_grad=}\\n\")\n",
        "\n",
        "x.requires_grad = True\n",
        "print(f\"{x.requires_grad=}\")\n",
        "print(f\"{y.requires_grad=}\")\n",
        "print(f\"{(x + y).requires_grad=}\")"
      ],
      "metadata": {
        "colab": {
          "base_uri": "https://localhost:8080/"
        },
        "id": "jpALBhT8DhT9",
        "outputId": "5359186f-0b96-4502-8d82-615a56ad694b"
      },
      "execution_count": 5,
      "outputs": [
        {
          "output_type": "stream",
          "name": "stdout",
          "text": [
            "x.requires_grad=False\n",
            "y.requires_grad=False\n",
            "(x + y).requires_grad=False\n",
            "\n",
            "x.requires_grad=True\n",
            "y.requires_grad=False\n",
            "(x + y).requires_grad=True\n"
          ]
        }
      ]
    },
    {
      "cell_type": "markdown",
      "source": [
        "###Przykład 1\n",
        "Rozważmy funkcję:\n",
        "$$\n",
        "f(t, u) = \\sum_i t_i^2 + \\sum_j \\log u_j \\, ,\n",
        "$$\n",
        "gdzie $t \\in \\mathbb{R}^n, u \\in \\mathbb{R}^m$.\n",
        "\n",
        "Zaimplementujmy wyznaczenie wartości tej funkcji w PyTorch dla przykładowych parametrów $t=[1,2,4]$ i $u=[10,20]$. Aby było możliwe wyznaczenie wartości gradientu $f$ dla tych parametrów włączymy flagę `requires_grad`."
      ],
      "metadata": {
        "id": "4xpG-GLMDzxQ"
      }
    },
    {
      "cell_type": "code",
      "source": [
        "t = torch.tensor([1., 2., 4.])\n",
        "t.requires_grad = True\n",
        "\n",
        "u = torch.tensor([10., 20.])\n",
        "u.requires_grad = True\n",
        "\n",
        "f = t.pow(2).sum() + u.log().sum()\n",
        "\n",
        "print(f\"{f = }\")\n",
        "print(f\"{f.requires_grad = }\")"
      ],
      "metadata": {
        "colab": {
          "base_uri": "https://localhost:8080/"
        },
        "id": "snKK0iv8DzYo",
        "outputId": "c6b2134e-9ba6-4255-ea52-887a33cabfda"
      },
      "execution_count": 6,
      "outputs": [
        {
          "output_type": "stream",
          "name": "stdout",
          "text": [
            "f = tensor(26.2983, grad_fn=<AddBackward0>)\n",
            "f.requires_grad = True\n"
          ]
        }
      ]
    },
    {
      "cell_type": "markdown",
      "source": [
        "Wizualizacja grafu obliczeń dla tensora f."
      ],
      "metadata": {
        "id": "s2SF-WQVEYW5"
      }
    },
    {
      "cell_type": "code",
      "source": [
        "from torchviz import make_dot\n",
        "from IPython.display import Image, display\n",
        "\n",
        "dot = make_dot(f, params={\"t\" : t, \"u\" : u, \"f\" : f}) #generowanie wizuulizacji grafu\n",
        "dot.render(\"computational_graph\", format=\"png\") # metoda render zap[isuje graf do pliku ]\n",
        "display(Image(filename=\"computational_graph.png\")) # metoda która wyświetla obraz"
      ],
      "metadata": {
        "colab": {
          "base_uri": "https://localhost:8080/",
          "height": 449
        },
        "id": "ZJf3BA9oEbTz",
        "outputId": "699e3e90-c3fa-4692-dc4b-b7724771e798"
      },
      "execution_count": 7,
      "outputs": [
        {
          "output_type": "display_data",
          "data": {
            "image/png": "[encoded data removed]",
            "text/plain": [
              "<IPython.core.display.Image object>"
            ]
          },
          "metadata": {}
        }
      ]
    },
    {
      "cell_type": "markdown",
      "source": [
        "Metoda `f.backward()` wykonuje przejście w tył przez graf obliczeń w celu wyznaczenia gradientów względem parametrów (tensorów z włączoną flagą `requires_grad`) wykorzystanych do wyznaczenia wartości `f`. W naszym przypadku są to tensory `t` i `u`.\n",
        "\n",
        "Pochodne cząstkowe funkcji $f$ względem parametrów $t$ i $u$ możemy wyznaczyć analitycznie:\n",
        "$\n",
        "\\frac{\\partial f}{\\partial t_i} = 2 t_i\n",
        "$ i\n",
        "$\n",
        "\\frac{\\partial f}{\\partial u_i} = \\frac{1}{u_i}\n",
        "$.\n",
        "Jak widać wyznaczone analitycznie wartości gradientu są identyczne jak wartości wyznaczone automatyczniez wykorzystaniem grafu obliczeń.\n"
      ],
      "metadata": {
        "id": "wASM52uyFrcS"
      }
    },
    {
      "cell_type": "code",
      "source": [
        "print(\"\\nPrzed wykonaniem f.backward()\")\n",
        "print(f\"{t.grad = }\")\n",
        "print(f\"{u.grad = }\")\n",
        "\n",
        "f.backward()\n",
        "\n",
        "print(\"\\nPo wykonaniu f.backward()\")\n",
        "print(f\"{t.grad = }\")\n",
        "print(f\"{u.grad = }\")\n",
        "#"
      ],
      "metadata": {
        "colab": {
          "base_uri": "https://localhost:8080/"
        },
        "id": "OllhHZ4cF1II",
        "outputId": "db9f706c-2f78-4473-f5fb-c2667748124c"
      },
      "execution_count": 8,
      "outputs": [
        {
          "output_type": "stream",
          "name": "stdout",
          "text": [
            "\n",
            "Przed wykonaniem f.backward()\n",
            "t.grad = None\n",
            "u.grad = None\n",
            "\n",
            "Po wykonaniu f.backward()\n",
            "t.grad = tensor([2., 4., 8.])\n",
            "u.grad = tensor([0.1000, 0.0500])\n"
          ]
        }
      ]
    },
    {
      "cell_type": "markdown",
      "source": [
        "##Przykład 2\n",
        "Rozważmy najprostszą sieć neuronową złożoną z jednej warstwy liniowej z wejściem `x` $\\in \\mathbb{R}^{5}$ oraz pewną funkcję straty `loss`.\n",
        "Warstwa liniowa jest zaimplementowana w PyTorch jako klasa `nn.Linear` ([link](https://pytorch.org/docs/stable/generated/torch.nn.Linear.html#linear)).\n",
        "\n",
        "Do celów poglądowych zasymulujemy działanie warstwy linowej korzystając z macierzy wag `w` $\\in \\mathbb{R}^{5 \\times 3}$ i wektora obciążenia (*bias*) `b` $\\in \\mathbb{R}^{3}$.\n",
        "`w` i `b` są **parametrami**, które chcemy optymalizować w procesie uczenia sieci. W tym celu musimy wyznaczyć gradient funkcji straty względem tych parametrów. Aby umożliwić automatyczne wyznaczanie gradientu dla tych parametrów, ustawiamy dla nich atrybut `requires_grad` na `true`.\n",
        "Zauważmy, że tensory utworzone w oparciu o choćby jeden tensor z atrybutem `requires_grad`, w tym przypadku `z` i `loss`, również będą miały aktywne wyznaczanie gradientu.\n",
        "\n",
        "**Uwaga**: Jesli wykorzystujemy moduły sieci dziedziczące z klasy `nn.Module` (np. `nn.Linear`, `nn.Conv2D`) tensory parametrów (wag) mają atrybut `requires_grad` domyślnie ustawiony na `true`."
      ],
      "metadata": {
        "id": "eoP9FQ5fGIsm"
      }
    },
    {
      "cell_type": "code",
      "source": [
        "import torch.nn as nn\n",
        "\n",
        "x = torch.ones(5)     #tensor wejściowy\n",
        "y = torch.zeros(3)    #oczekiwane wyjście\n",
        "\n",
        "#Definiujemy początkowe parametry wartstwy liniowej : macierz wag i wektor obciażenia (bias)\n",
        "w = torch.randn((5, 3), requires_grad=True)\n",
        "b = torch.randn(3, requires_grad=True)\n",
        "\n",
        "z = x @ w + b #mnożenie macierzy\n",
        "\n",
        "#Wyznaczamy wartość funkcji straty jako funkcję entropii krzyżowej między wyjściem z sieci a oczekiwanym wyjściem\n",
        "\n",
        "loss = nn.functional.binary_cross_entropy_with_logits(z, y)"
      ],
      "metadata": {
        "id": "alwbdjm4Gnh3"
      },
      "execution_count": 9,
      "outputs": []
    },
    {
      "cell_type": "code",
      "source": [
        "print(f\"{z = }\")\n",
        "print(f\"{z.requires_grad = }\")\n",
        "print(f\"{loss = }\")\n",
        "print(f\"{loss.requires_grad = }\")"
      ],
      "metadata": {
        "colab": {
          "base_uri": "https://localhost:8080/"
        },
        "id": "9hGhyYTRHhvp",
        "outputId": "88c9f153-7236-424b-ed5c-74433c0bec8a"
      },
      "execution_count": 10,
      "outputs": [
        {
          "output_type": "stream",
          "name": "stdout",
          "text": [
            "z = tensor([-2.0312, -2.2099,  1.4802], grad_fn=<AddBackward0>)\n",
            "z.requires_grad = True\n",
            "loss = tensor(0.6375, grad_fn=<BinaryCrossEntropyWithLogitsBackward0>)\n",
            "loss.requires_grad = True\n"
          ]
        }
      ]
    },
    {
      "cell_type": "markdown",
      "source": [
        "###Wizualizacja grafu obliczeń"
      ],
      "metadata": {
        "id": "1DCf-bmIHx0W"
      }
    },
    {
      "cell_type": "code",
      "source": [
        "dot = make_dot(loss, params={\"w\" : w, \"b\" : b, \"loss\" : loss})\n",
        "dot.render(\"computational_graph_loss\", format=\"png\")\n",
        "display(Image(filename=\"computational_graph_loss.png\"))"
      ],
      "metadata": {
        "colab": {
          "base_uri": "https://localhost:8080/",
          "height": 537
        },
        "id": "m_kN25reH5NY",
        "outputId": "1786b0bd-36fc-4ed7-a757-209454380757"
      },
      "execution_count": 11,
      "outputs": [
        {
          "output_type": "display_data",
          "data": {
            "image/png": "[encoded data removed]",
            "text/plain": [
              "<IPython.core.display.Image object>"
            ]
          },
          "metadata": {}
        }
      ]
    },
    {
      "cell_type": "code",
      "source": [
        "print(f\"Gradient function for z = {z.grad_fn}\")\n",
        "print(f\"Gradient function for loss = {loss.grad_fn}\")"
      ],
      "metadata": {
        "colab": {
          "base_uri": "https://localhost:8080/"
        },
        "id": "Sl2ua3tTLdXP",
        "outputId": "78c271e9-831a-475f-8f5d-65516eb8c1ef"
      },
      "execution_count": 12,
      "outputs": [
        {
          "output_type": "stream",
          "name": "stdout",
          "text": [
            "Gradient function for z = <AddBackward0 object at 0x7cf82af216f0>\n",
            "Gradient function for loss = <BinaryCrossEntropyWithLogitsBackward0 object at 0x7cf82af23e50>\n"
          ]
        }
      ]
    },
    {
      "cell_type": "markdown",
      "source": [
        "###Obliczanie gradientu\n",
        "\n",
        "Aby wykonać jeden krok optymalizacji wag sieci musimy wyznaczyć gradient funkcji straty względem parametrów sieci, czyli $\\frac{\\partial loss}{\\partial w}$ i\n",
        "$\\frac{\\partial loss}{\\partial b}$ dla ustalonych wartości `x` i\n",
        "`y`.\n",
        "Aby wyznaczyć te pochodne cząstkowe wywołujemy funkcję `loss.backward()`. Wyznaczone pochodne zostaną zapisane w atrybutach `w.grad` and `b.grad`."
      ],
      "metadata": {
        "id": "HBwiFSqnLlP5"
      }
    },
    {
      "cell_type": "code",
      "source": [
        "print(f\"Gradient funkcji względem parametrów w i b:\")\n",
        "loss.backward()\n",
        "print(f\"{w.grad=}\")\n",
        "print(f\"{b.grad=}\")"
      ],
      "metadata": {
        "colab": {
          "base_uri": "https://localhost:8080/"
        },
        "id": "Z0jDSYtKLpWL",
        "outputId": "29fe5fe0-d064-4307-be14-ae44d369cd34"
      },
      "execution_count": 13,
      "outputs": [
        {
          "output_type": "stream",
          "name": "stdout",
          "text": [
            "Gradient funkcji względem parametrów w i b:\n",
            "w.grad=tensor([[0.0387, 0.0330, 0.2715],\n",
            "        [0.0387, 0.0330, 0.2715],\n",
            "        [0.0387, 0.0330, 0.2715],\n",
            "        [0.0387, 0.0330, 0.2715],\n",
            "        [0.0387, 0.0330, 0.2715]])\n",
            "b.grad=tensor([0.0387, 0.0330, 0.2715])\n"
          ]
        }
      ]
    },
    {
      "cell_type": "markdown",
      "source": [
        "Zasymulujemy teraz jeden krok optymalizacji parametrów sieci metodą spadku wzdłuż gradientu.\n",
        "Gradient funkcji straty `loss` względem parametrów (macierz wag `w` i wektor obciążeń `b`) wyznaczony w poprzednim kroku określa kierunek maksymalnego wzrostu wartości funkcji straty.\n",
        "Ponieważ chcemy minimalizować wartość funkcji straty, musimy zmieniać parametry w kierunku przeciwnym do gradientu.\n",
        "\n",
        "Graf obliczeń powinien być budowany tylko dla obliczeń prowadzących do wyznaczenia wartości funkcji straty.\n",
        "Przy samej aktualizacji parametrów sieci z wykorzystaniem wyznaczonych gradientów powinniśmy wyłączyć budowanie grafu obliczeń korzystając z menadżera kontekstu `torch.no_grad():`.\n"
      ],
      "metadata": {
        "id": "6YJVvyXmLslC"
      }
    },
    {
      "cell_type": "code",
      "source": [
        "print(f\"Początkowa wartość funkcji straty: {loss:.5f}\")\n",
        "\n",
        "learning_rate = .5\n",
        "with torch.no_grad():\n",
        "    w -= learning_rate * w.grad\n",
        "    b -= learning_rate * b.grad\n",
        "\n",
        "z = x @ w + b\n",
        "loss2 = nn.functional.binary_cross_entropy_with_logits(z, y)\n",
        "\n",
        "print(f\"Wartość funkcji straty po jednym kroku optymalizacji parametrów: {loss2:.10f}\")"
      ],
      "metadata": {
        "colab": {
          "base_uri": "https://localhost:8080/"
        },
        "id": "HhmCnS-pMpXM",
        "outputId": "c4ff25c3-452f-44eb-ef52-563f62d1e7b3"
      },
      "execution_count": 14,
      "outputs": [
        {
          "output_type": "stream",
          "name": "stdout",
          "text": [
            "Początkowa wartość funkcji straty: 0.63753\n",
            "Wartość funkcji straty po jednym kroku optymalizacji parametrów: 0.4285127819\n"
          ]
        }
      ]
    },
    {
      "cell_type": "markdown",
      "source": [
        "**Uwaga:** Ze względów wydajnościowych wyznaczone pochodne są zapisywane tylko dla liści grafu obliczeń z ustawionym atrybutem `requires_grad`. Dla wewnętrznych węzłów w grafie obliczeń (w naszym przypadku `z` i `loss`) atrybut `grad` nie jest zapisywany."
      ],
      "metadata": {
        "id": "qp2v015xNuwv"
      }
    },
    {
      "cell_type": "code",
      "source": [
        "print(f\"{z.grad=}\")\n",
        "print(f\"{loss.grad=}\")"
      ],
      "metadata": {
        "colab": {
          "base_uri": "https://localhost:8080/"
        },
        "id": "1wDKUeUNNvcA",
        "outputId": "f56fd1c5-74fc-4591-bbbc-2a2a6c7c2478"
      },
      "execution_count": 15,
      "outputs": [
        {
          "output_type": "stream",
          "name": "stdout",
          "text": [
            "z.grad=None\n",
            "loss.grad=None\n"
          ]
        },
        {
          "output_type": "stream",
          "name": "stderr",
          "text": [
            "<ipython-input-15-8c375960b611>:1: UserWarning: The .grad attribute of a Tensor that is not a leaf Tensor is being accessed. Its .grad attribute won't be populated during autograd.backward(). If you indeed want the .grad field to be populated for a non-leaf Tensor, use .retain_grad() on the non-leaf Tensor. If you access the non-leaf Tensor by mistake, make sure you access the leaf Tensor instead. See github.com/pytorch/pytorch/pull/30531 for more informations. (Triggered internally at aten/src/ATen/core/TensorBody.h:489.)\n",
            "  print(f\"{z.grad=}\")\n",
            "<ipython-input-15-8c375960b611>:2: UserWarning: The .grad attribute of a Tensor that is not a leaf Tensor is being accessed. Its .grad attribute won't be populated during autograd.backward(). If you indeed want the .grad field to be populated for a non-leaf Tensor, use .retain_grad() on the non-leaf Tensor. If you access the non-leaf Tensor by mistake, make sure you access the leaf Tensor instead. See github.com/pytorch/pytorch/pull/30531 for more informations. (Triggered internally at aten/src/ATen/core/TensorBody.h:489.)\n",
            "  print(f\"{loss.grad=}\")\n"
          ]
        }
      ]
    },
    {
      "cell_type": "markdown",
      "source": [
        "Zapisywanie wartości wyznaczonego gradientu dla wewnętrznych węzłów w grafie obliczeń można włączyć wywołując dla nich metodę `retain_grad()`."
      ],
      "metadata": {
        "id": "6Rm35md-N3FC"
      }
    },
    {
      "cell_type": "code",
      "source": [
        "# Parametry warstwy liniowej: macierz wag i wektor obciążenia (bias)\n",
        "w = torch.randn((5, 3), requires_grad=True)\n",
        "b = torch.randn(3, requires_grad=True)\n",
        "\n",
        "z = x @ w + b\n",
        "z.retain_grad()\n",
        "\n",
        "# Wyznaczmy wartość funkcji straty jako funkcję entropii krzyżowej między\n",
        "# wyjściem z sieci a oczekiwanym wyjście\n",
        "loss = nn.functional.binary_cross_entropy_with_logits(z, y)\n",
        "loss.retain_grad()\n",
        "\n",
        "loss.backward()\n",
        "print(f\"{z.grad=}\")\n",
        "print(f\"{loss.grad=}\")\n",
        "print(f\"{w.grad=}\")\n",
        "print(f\"{b.grad=}\")"
      ],
      "metadata": {
        "colab": {
          "base_uri": "https://localhost:8080/"
        },
        "id": "K6bfePJNN4mR",
        "outputId": "62c29937-64d5-4a28-feb6-b93153e1e753"
      },
      "execution_count": 16,
      "outputs": [
        {
          "output_type": "stream",
          "name": "stdout",
          "text": [
            "z.grad=tensor([0.1557, 0.3221, 0.0274])\n",
            "loss.grad=tensor(1.)\n",
            "w.grad=tensor([[0.1557, 0.3221, 0.0274],\n",
            "        [0.1557, 0.3221, 0.0274],\n",
            "        [0.1557, 0.3221, 0.0274],\n",
            "        [0.1557, 0.3221, 0.0274],\n",
            "        [0.1557, 0.3221, 0.0274]])\n",
            "b.grad=tensor([0.1557, 0.3221, 0.0274])\n"
          ]
        }
      ]
    },
    {
      "cell_type": "code",
      "source": [
        "print(f\"Początkowa wartość funkcji straty: {loss:.5f}\")\n",
        "\n",
        "learning_rate = 0.5\n",
        "with torch.no_grad():\n",
        "    w -= learning_rate * w.grad\n",
        "    b -= learning_rate * b.grad\n",
        "\n",
        "z = x @ w + b\n",
        "loss2 = nn.functional.binary_cross_entropy_with_logits(z, y)\n",
        "\n",
        "print(f\"Wartość funkcji straty po jednym kroku optymalizacji parametrów: {loss2:.10f}\")"
      ],
      "metadata": {
        "colab": {
          "base_uri": "https://localhost:8080/"
        },
        "id": "zxiN59ogOTw0",
        "outputId": "da8958b2-f4b1-45d2-87e6-8719456d8dc1"
      },
      "execution_count": 17,
      "outputs": [
        {
          "output_type": "stream",
          "name": "stdout",
          "text": [
            "Początkowa wartość funkcji straty: 1.36751\n",
            "Wartość funkcji straty po jednym kroku optymalizacji parametrów: 0.9973123670\n"
          ]
        }
      ]
    },
    {
      "cell_type": "markdown",
      "source": [
        "##Przykład 3"
      ],
      "metadata": {
        "id": "dS-OTtUGoLPA"
      }
    },
    {
      "cell_type": "markdown",
      "source": [
        "Funkcja\n",
        "$$\\mathcal{L}=\\sqrt{sin \\left( x \\cdot y + z \\right) + 4}$$\n",
        "\n"
      ],
      "metadata": {
        "id": "qc6RMuyjoOem"
      }
    },
    {
      "cell_type": "code",
      "source": [
        "x = torch.tensor(2.)\n",
        "x.requires_grad = True\n",
        "y = torch.tensor(-1.)\n",
        "y.requires_grad = True\n",
        "z = torch.tensor(2.)\n",
        "z.requires_grad = True\n",
        "\n",
        "L = torch.sqrt(torch.sin(x * y + z) + 4)\n",
        "\n",
        "print(f\"{L=}\")\n",
        "print(f\"{L.requires_grad=}\")"
      ],
      "metadata": {
        "colab": {
          "base_uri": "https://localhost:8080/"
        },
        "id": "zRpCs0nGo1hw",
        "outputId": "f25ab316-7366-482d-84ba-907431612576"
      },
      "execution_count": 18,
      "outputs": [
        {
          "output_type": "stream",
          "name": "stdout",
          "text": [
            "L=tensor(2., grad_fn=<SqrtBackward0>)\n",
            "L.requires_grad=True\n"
          ]
        }
      ]
    },
    {
      "cell_type": "code",
      "source": [
        "L.backward()\n",
        "print(f\"{x.grad=}\")\n",
        "print(f\"{y.grad=}\")\n",
        "print(f\"{z.grad=}\")"
      ],
      "metadata": {
        "colab": {
          "base_uri": "https://localhost:8080/"
        },
        "id": "6WKFgCfZplI3",
        "outputId": "cb358655-a9a0-4373-f441-eb5ca0e6acc8"
      },
      "execution_count": 19,
      "outputs": [
        {
          "output_type": "stream",
          "name": "stdout",
          "text": [
            "x.grad=tensor(-0.2500)\n",
            "y.grad=tensor(0.5000)\n",
            "z.grad=tensor(0.2500)\n"
          ]
        }
      ]
    },
    {
      "cell_type": "code",
      "source": [
        "dot = make_dot(L, params={\"x\": x, \"y\": y, \"z\": z, \"L\": L})\n",
        "dot.render(\"computational_graph\", format=\"png\")\n",
        "display(Image(filename=\"computational_graph.png\"))"
      ],
      "metadata": {
        "colab": {
          "base_uri": "https://localhost:8080/",
          "height": 610
        },
        "id": "eZi0nWynpz48",
        "outputId": "d63fbda2-9888-4d29-b017-96107f0daf62"
      },
      "execution_count": 20,
      "outputs": [
        {
          "output_type": "display_data",
          "data": {
            "image/png": "[encoded data removed]",
            "text/plain": [
              "<IPython.core.display.Image object>"
            ]
          },
          "metadata": {}
        }
      ]
    },
    {
      "cell_type": "markdown",
      "source": [
        "##Wyłączenie śledzenia historii obliczeń"
      ],
      "metadata": {
        "id": "eL1F087nqDvG"
      }
    },
    {
      "cell_type": "markdown",
      "source": [
        "Historia obliczeń wykonywanych z wykorzystaniem tensorów z atrybutem `requires_grad=True` jest śledzona i automatycznie budowany jest graf obliczeń.  Tensory będące wynkiem takich obliczeń również mają ustawiony atrybut `requires_grad` i historia obliczeń z ich wykonaniem jest dalej śledzona.\n",
        "\n",
        "W niektórych przypadkach nie jest to konieczne. Jeśli chcemy wykorzystać wcześniej wytrenowany model, i nie zamierzamy optymalizować jego parametrów, możemy wyłączyć śledzenie obliczeń korzystając z menadżera kontekstu `torch.no_grad()`.\n",
        "\n",
        "Alternatywnie możemy ustawić atrybut `requires_grad` wszystkich lub wybranych parametrów modelu na `False`. W ten sposób można zamrozić część parametrów modelu i optymalizować tylko pozostałe parametry."
      ],
      "metadata": {
        "id": "GLogy8ldqB0V"
      }
    },
    {
      "cell_type": "code",
      "source": [
        "x = torch.ones(5)\n",
        "print(f\"{x.requires_grad=}\")\n",
        "print(f\"{w.requires_grad=}\")\n",
        "print(f\"{b.requires_grad=}\")\n",
        "z = x @ w + b\n",
        "print(f\"{z.requires_grad=}\")\n",
        "\n",
        "with torch.no_grad():\n",
        "    z = x @ w + b\n",
        "\n",
        "print(f\"{z.requires_grad=}\")"
      ],
      "metadata": {
        "colab": {
          "base_uri": "https://localhost:8080/"
        },
        "id": "RcMkTEFjqJQR",
        "outputId": "11be4712-b73a-4658-b468-1d2edebff3cb"
      },
      "execution_count": 23,
      "outputs": [
        {
          "output_type": "stream",
          "name": "stdout",
          "text": [
            "x.requires_grad=False\n",
            "w.requires_grad=True\n",
            "b.requires_grad=True\n",
            "z.requires_grad=True\n",
            "z.requires_grad=False\n"
          ]
        }
      ]
    },
    {
      "cell_type": "markdown",
      "source": [
        "Aby wyłączyć graf obliczeń od tensora można rónież użyc metodę detach(). Tak stworzony tensor będzie miał pierwotnie wyłączony atrybut requires_grad."
      ],
      "metadata": {
        "id": "oHWDDnxYsdcY"
      }
    },
    {
      "cell_type": "code",
      "source": [
        "z = x @ w + b\n",
        "print(f\"{z.requires_grad=}\")\n",
        "y = z * 3 + 2\n",
        "print(f\"{y.requires_grad=}\")\n",
        "print()\n",
        "\n",
        "z_det = z.detach()\n",
        "print(f\"{z_det.requires_grad=}\")\n",
        "y_det = z_det * 3 + 2\n",
        "print(f\"{y_det.requires_grad=}\")"
      ],
      "metadata": {
        "colab": {
          "base_uri": "https://localhost:8080/"
        },
        "id": "4rbmse2fsqVo",
        "outputId": "b41adff5-167a-4f44-c21e-7790adeb1336"
      },
      "execution_count": 25,
      "outputs": [
        {
          "output_type": "stream",
          "name": "stdout",
          "text": [
            "z.requires_grad=True\n",
            "y.requires_grad=True\n",
            "\n",
            "z_det.requires_grad=False\n",
            "y_det.requires_grad=False\n"
          ]
        }
      ]
    },
    {
      "cell_type": "markdown",
      "source": [
        "#Przykład: Regresja logistyczna\n",
        "Rozważny problem dwuklasowej regresji logistycznej:\n",
        "$$P(Y=1|X=x) = \\sigma(W \\cdot x + b) \\, ,$$\n",
        "gdzie $\\sigma(x)$ jest **funkcją sigmoidalną** daną wzorem: $$\\sigma(x) = \\frac{1}{1+\\exp(-x)} \\, ,$$\n",
        "a zmienna zależna $Y$ przyjmuje wartości ze zbioru $\\left\\{ 0, 1 \\right\\}$.\n",
        "\n",
        "Funkcja straty binarnej entropii krzyżowej między prawdziwym a estymowanym prawdopodobieństwem dana jest wzorem:\n",
        "$$\n",
        "\\mathcal{L} = y_i \\log \\sigma \\left(z_i\\right) + (1 - y_i) \\log\n",
        "\\left( 1 - \\sigma \\left(z_i\\right)  \\right) \\, ,\n",
        "$$\n",
        "gdzie\n",
        "$$\n",
        "z_i = W \\cdot x_i + b\n",
        "$$\n",
        "\n",
        "Problem ten nie ma rozwiązania analitycznego. Wartość parametrów (macierz wag $W$ i wektor obciążenia $b$) możemy znaleźć metodą spadku wzdłuż gradientu."
      ],
      "metadata": {
        "id": "_eSoOs7ktIaJ"
      }
    },
    {
      "cell_type": "markdown",
      "source": [
        "Korzystając z funkcji make_calssification z biblioteki scikit-learn wygeneruje syntetyczny zzbiór danych."
      ],
      "metadata": {
        "id": "ao-dip1TvtSy"
      }
    },
    {
      "cell_type": "code",
      "source": [
        "from sklearn.datasets import make_classification\n",
        "from sklearn.model_selection import train_test_split\n",
        "\n",
        "# generowanie zbioru danych\n",
        "X, y = make_classification(n_samples=1000, n_features=10, n_classes=2, n_informative=5, random_state=39)\n",
        "\n",
        "# Podziele na dane treningowe i testowe\n",
        "\n",
        "X_train, X_test, y_train, y_test = train_test_split(X, y, test_size=0.2)"
      ],
      "metadata": {
        "id": "yGw6p2n9v1WT"
      },
      "execution_count": 27,
      "outputs": []
    },
    {
      "cell_type": "code",
      "source": [
        "print(X_train[:6])\n",
        "print(y_train[:6])"
      ],
      "metadata": {
        "colab": {
          "base_uri": "https://localhost:8080/"
        },
        "id": "WYnSPncWwXxw",
        "outputId": "fb57271b-d40f-4aca-832e-454681096df0"
      },
      "execution_count": 28,
      "outputs": [
        {
          "output_type": "stream",
          "name": "stdout",
          "text": [
            "[[-2.07085312 -0.04064765  0.02678911  0.40361601  0.77851063  1.19922739\n",
            "  -1.83718679  1.62196421 -1.67020836 -1.12811749]\n",
            " [ 1.20151267  1.53972534  0.43779998  0.41853716  1.78489859 -0.10560974\n",
            "   0.34145075 -1.2861887   1.41252419  1.80916163]\n",
            " [ 0.34839753  1.07134756  0.31918828  1.20548051 -0.90091801 -1.48374412\n",
            "   0.64022087 -0.25634578  1.43057047 -1.00646235]\n",
            " [-0.17973526 -0.86915635  0.03128954  0.04013534 -2.30192777 -1.90163566\n",
            "  -1.3787049  -0.49656222  1.28540426 -0.32678722]\n",
            " [ 0.34332545 -2.10856914  1.45879485  0.57750694  0.66091503  1.60508396\n",
            "   0.43936719  1.16363315 -3.25707337  2.0255843 ]\n",
            " [-0.68491842 -1.03644968  2.5674952   0.6762925  -1.81185172 -0.9206438\n",
            "  -2.81744823  0.66957685 -1.79735995  0.5734468 ]]\n",
            "[1 0 0 0 0 1]\n"
          ]
        }
      ]
    },
    {
      "cell_type": "markdown",
      "source": [
        "Wizualizacja dwóch wybranych cech:"
      ],
      "metadata": {
        "id": "92J02clSwcEa"
      }
    },
    {
      "cell_type": "code",
      "source": [
        "import random\n",
        "from matplotlib import pyplot as plt\n",
        "\n",
        "# Wybierz dwie losowe cechy\n",
        "f1 = random.randint(0, X_train.shape[1]-1)\n",
        "f2 = random.randint(0, X_train.shape[1]-1)\n",
        "\n",
        "plt.scatter(X_train[y_train==0, f1], X_train[y_train==0, f2], color='blue', label='Klasa 0', alpha=0.7)\n",
        "plt.scatter(X_train[y_train==1, f1], X_train[y_train==1, f2], color='red', label='Klasa 1', alpha=0.7)\n",
        "plt.grid(True, linestyle='--', alpha=0.6)\n",
        "plt.xlabel(f\"Wartość cechy {f1}\")\n",
        "plt.ylabel(f\"Wartość cechy {f2}\")\n",
        "plt.legend()\n",
        "plt.show()"
      ],
      "metadata": {
        "colab": {
          "base_uri": "https://localhost:8080/",
          "height": 450
        },
        "id": "dr8niYZVwiU5",
        "outputId": "2a5a1cc7-c5a2-4fc5-8cb1-e9d61914a0a0"
      },
      "execution_count": 29,
      "outputs": [
        {
          "output_type": "display_data",
          "data": {
            "text/plain": [
              "<Figure size 640x480 with 1 Axes>"
            ],
            "image/png": "[encoded data removed]"
          },
          "metadata": {}
        }
      ]
    },
    {
      "cell_type": "markdown",
      "source": [
        "Możemy zauważyć, że dla dwóch losowo wybranych cech elementy z różnych klas nie są liniowo separowalne."
      ],
      "metadata": {
        "id": "DXsrHZPqwn0V"
      }
    },
    {
      "cell_type": "markdown",
      "source": [
        "Utwórzmy warstwe liniową o wymiarze wejścia 10 i wyjścia 1"
      ],
      "metadata": {
        "id": "TDNSr0BIxRMJ"
      }
    },
    {
      "cell_type": "code",
      "source": [
        "import torch.nn as nn\n",
        "\n",
        "print(X_train.shape)\n",
        "n_features = X_train.shape[1]\n",
        "linear = nn.Linear(n_features, 1)\n",
        "\n",
        "print(f\"{linear=}\\n\")\n",
        "print(f\"{linear.weight=}\\n\")\n",
        "print(f\"{linear.bias=}\")"
      ],
      "metadata": {
        "colab": {
          "base_uri": "https://localhost:8080/"
        },
        "id": "Y0P-p57Wwsa8",
        "outputId": "d32eb658-f1f8-4ae7-8a17-9fe2781f80c7"
      },
      "execution_count": 34,
      "outputs": [
        {
          "output_type": "stream",
          "name": "stdout",
          "text": [
            "(800, 10)\n",
            "linear=Linear(in_features=10, out_features=1, bias=True)\n",
            "\n",
            "linear.weight=Parameter containing:\n",
            "tensor([[-0.0677,  0.1775,  0.2232,  0.2574, -0.1299, -0.1453,  0.2555, -0.1589,\n",
            "         -0.1306, -0.2278]], requires_grad=True)\n",
            "\n",
            "linear.bias=Parameter containing:\n",
            "tensor([0.1454], requires_grad=True)\n"
          ]
        }
      ]
    },
    {
      "cell_type": "markdown",
      "source": [
        "Zauważmy, że utworzona warstwa liniowa (obiekt linear) ma dwa parametry: macierz wag linear.weight i wektor obciążenia linear.bias. Każdy z nich jest tensorem o losowo zainicjalizowanych wartościach z włączonym śledzeniem historii obliczeń (requires_grad=True)."
      ],
      "metadata": {
        "id": "XnH5WB3gx5Kw"
      }
    },
    {
      "cell_type": "markdown",
      "source": [
        "Sprawdźmy działanie warstwy liniowej.\n",
        "Po przetworzeniu wektora cech $x \\in \\mathbb{R}^{10}$ w rezultacie otrzymamy pojedyczną wartość rzeczywistą (logit).\n",
        "Warstwa liniowa pozwoli również przetworzyć cały wsad wektorów cech $X \\in \\mathbb{R}^{N \\times 10}$ i w rezultacie otrzymamy wektor $N$ logitów.\n",
        "Zauważmy, że tensor `z` zawierający wynikowe wartości ma również włączone śledzenie obliczeń (`requires_grad=True`)."
      ],
      "metadata": {
        "id": "eUzH2j5ayGnr"
      }
    },
    {
      "cell_type": "code",
      "source": [
        "# Zamień dane (jako tablice ndarray) na tensory\n",
        "X_train_tensor = torch.tensor(X_train, dtype=torch.float32)\n",
        "y_train_tensor = torch.tensor(y_train, dtype=torch.float32)\n",
        "X_test_tensor = torch.tensor(X_test, dtype=torch.float32)\n",
        "y_test_tensor = torch.tensor(y_test, dtype=torch.float32)\n",
        "print(X_train_tensor[10])\n",
        "\n",
        "elem_ndx = 10\n",
        "z = linear(X_train_tensor[elem_ndx]) # wykorzystanie stworzonej wcześniej warstwy liniowej, liniowaa transformacja\n",
        "print(f\"Rozmiar wejścia: {X_train_tensor[elem_ndx].shape}\")\n",
        "print(f\"Rozmiar wyjścia: {z.shape}\")\n",
        "print(f\"Wyjście: {z}\")\n",
        "print(f\"{z.requires_grad=}\")\n",
        "print()\n",
        "\n",
        "z = linear(X_train_tensor)\n",
        "print(f\"Rozmiar wejścia: {X_train_tensor.shape}\")\n",
        "print(f\"Rozmiar wyjścia: {z.shape}\")\n",
        "print(f\"Wyjście (pierwsze 5 elementów): {z[:5]}\")\n",
        "print(f\"{z.requires_grad=}\")"
      ],
      "metadata": {
        "colab": {
          "base_uri": "https://localhost:8080/"
        },
        "id": "03iUrNAoyMII",
        "outputId": "22af5c82-07e9-48b8-f2e3-984bf7a15e07"
      },
      "execution_count": 38,
      "outputs": [
        {
          "output_type": "stream",
          "name": "stdout",
          "text": [
            "tensor([ 2.0181, -1.9415,  0.7131,  0.8048, -0.7040, -0.0360, -1.2940, -0.7864,\n",
            "        -0.7530,  2.4419])\n",
            "Rozmiar wejścia: torch.Size([10])\n",
            "Rozmiar wyjścia: torch.Size([1])\n",
            "Wyjście: tensor([-0.5362], grad_fn=<ViewBackward0>)\n",
            "z.requires_grad=True\n",
            "\n",
            "Rozmiar wejścia: torch.Size([800, 10])\n",
            "Rozmiar wyjścia: torch.Size([800, 1])\n",
            "Wyjście (pierwsze 5 elementów): tensor([[-0.1393],\n",
            "        [ 0.0213],\n",
            "        [ 1.2729],\n",
            "        [ 0.2294],\n",
            "        [-0.2058]], grad_fn=<SliceBackward0>)\n",
            "z.requires_grad=True\n"
          ]
        }
      ]
    },
    {
      "cell_type": "markdown",
      "source": [
        "Optymalizacja parametrów (wag) warstwy liniowej metodą spadku wzdłuż gradientu.\n",
        "Do obliczania wartości straty wykorzystamy funkcję `BCEWithLogitsLoss`, łączącą w jednej klasie funkcję Sigmoid i funkcję straty binarnej entropii krzyżowej (patrz: [link](https://pytorch.org/docs/stable/generated/torch.nn.BCEWithLogitsLoss.html#torch.nn.BCEWithLogitsLoss)).\n",
        "Pozwala to na bardziej stabilne numerycznie obliczenie niż zastosowanie najpierw funkcji Sigmoid a następnie wyznaczenie straty binarnej entropii krzyżowej.\n",
        "\n",
        "W literaturze poświęconej głębokiemu uczeniu nieznormalizowane wyjścia z modułu sieci, w naszym przypadku z warstwy liniowej, mogące przyjmować wartości rzeczywiste z zakresu $\\left( -\\infty, \\infty \\right)$ zwane są **logitami**.\n",
        "\n",
        "**Uwaga:** Poniższy kod ma charakter poglądowy. W praktyce optymalizację parametrów (wag) sieci neuronowej wykonujemy korzystając z zaimplementowanego w PyTorch optymalizatora (np. SGD lub Adam)."
      ],
      "metadata": {
        "id": "s0jDarEuznNR"
      }
    },
    {
      "cell_type": "code",
      "source": [
        "criterion = nn.BCEWithLogitsLoss()\n",
        "\n",
        "eta= 0.1\n",
        "n_epochs = 200\n",
        "for k in range(n_epochs):\n",
        "    # Wyzeruj wartości gradientu przed kolejnym przejściem w tył\n",
        "    # Patrz: https://stackoverflow.com/questions/48001598/why-do-we-need-to-call-zero-grad-in-pytorch\n",
        "    linear.zero_grad()\n",
        "\n",
        "    logits = linear(X_train_tensor)\n",
        "    # logits ma rozmiar (N, 1)\n",
        "    logits = logits.squeeze(1)\n",
        "    # logits ma rozmiar (N,)\n",
        "\n",
        "    # Wyznacz wartość funkcji straty\n",
        "    loss = criterion(logits, y_train_tensor)\n",
        "\n",
        "    # Przejście w tył- wyznaczenie gradientu funkcji straty względem parametrów (wag) modelu\n",
        "    loss.backward()\n",
        "\n",
        "    # Krok optymalizacji parametrów sieci - zmiana w kierunku przeciwnym do wartości gradientu\n",
        "    with torch.no_grad():\n",
        "        linear.weight -= eta * linear.weight.grad\n",
        "        linear.bias -= eta * linear.bias.grad\n",
        "\n",
        "    # Dokładność klasyfikacji na zbiorze treningowym\n",
        "    y_pred_labels = (logits.detach() >= 0.5).float()\n",
        "    train_accuracy = (y_pred_labels == y_train_tensor).sum().item() / y_train_tensor.size(0)\n",
        "\n",
        "    # Dokładność klasyfikacji na zbiorze testowym\n",
        "    with torch.no_grad():\n",
        "        logits = linear(X_test_tensor)\n",
        "        logits = logits.squeeze(1)\n",
        "        y_pred_labels = (logits >= 0.5).float()\n",
        "        test_accuracy = (y_pred_labels == y_test_tensor).sum().item() / y_test_tensor.size(0)\n",
        "\n",
        "    if k % 20 == 0:\n",
        "        print(f\"Epoch: {k}   Wartość funkcji straty: {loss.item():.5f}   Dokładność (train): {train_accuracy:.4f}   Dokładność (test): {test_accuracy:.4f}\")"
      ],
      "metadata": {
        "colab": {
          "base_uri": "https://localhost:8080/"
        },
        "id": "SlGqBlWuz3Qo",
        "outputId": "9d957416-e4c7-4f82-ba95-2794ee0c0e8d"
      },
      "execution_count": 39,
      "outputs": [
        {
          "output_type": "stream",
          "name": "stdout",
          "text": [
            "Epoch: 0   Wartość funkcji straty: 0.97555   Dokładność (train): 0.3513   Dokładność (test): 0.5100\n",
            "Epoch: 20   Wartość funkcji straty: 0.45860   Dokładność (train): 0.8200   Dokładność (test): 0.8400\n",
            "Epoch: 40   Wartość funkcji straty: 0.43163   Dokładność (train): 0.8213   Dokładność (test): 0.8350\n",
            "Epoch: 60   Wartość funkcji straty: 0.42023   Dokładność (train): 0.8237   Dokładność (test): 0.8150\n",
            "Epoch: 80   Wartość funkcji straty: 0.41347   Dokładność (train): 0.8275   Dokładność (test): 0.8200\n",
            "Epoch: 100   Wartość funkcji straty: 0.40905   Dokładność (train): 0.8325   Dokładność (test): 0.8350\n",
            "Epoch: 120   Wartość funkcji straty: 0.40602   Dokładność (train): 0.8337   Dokładność (test): 0.8350\n",
            "Epoch: 140   Wartość funkcji straty: 0.40387   Dokładność (train): 0.8350   Dokładność (test): 0.8400\n",
            "Epoch: 160   Wartość funkcji straty: 0.40232   Dokładność (train): 0.8350   Dokładność (test): 0.8400\n",
            "Epoch: 180   Wartość funkcji straty: 0.40118   Dokładność (train): 0.8313   Dokładność (test): 0.8400\n"
          ]
        }
      ]
    }
  ]
}