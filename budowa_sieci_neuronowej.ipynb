{
  "nbformat": 4,
  "nbformat_minor": 0,
  "metadata": {
    "colab": {
      "provenance": [],
      "gpuType": "T4"
    },
    "kernelspec": {
      "name": "python3",
      "display_name": "Python 3"
    },
    "language_info": {
      "name": "python"
    },
    "accelerator": "GPU"
  },
  "cells": [
    {
      "cell_type": "code",
      "execution_count": 1,
      "metadata": {
        "colab": {
          "base_uri": "https://localhost:8080/"
        },
        "id": "xdtn1uxy3cpK",
        "outputId": "7ea896bf-d5d1-4e02-9124-12c4b976dd0e"
      },
      "outputs": [
        {
          "output_type": "stream",
          "name": "stdout",
          "text": [
            "Sat Mar  8 18:05:28 2025       \n",
            "+-----------------------------------------------------------------------------------------+\n",
            "| NVIDIA-SMI 550.54.15              Driver Version: 550.54.15      CUDA Version: 12.4     |\n",
            "|-----------------------------------------+------------------------+----------------------+\n",
            "| GPU  Name                 Persistence-M | Bus-Id          Disp.A | Volatile Uncorr. ECC |\n",
            "| Fan  Temp   Perf          Pwr:Usage/Cap |           Memory-Usage | GPU-Util  Compute M. |\n",
            "|                                         |                        |               MIG M. |\n",
            "|=========================================+========================+======================|\n",
            "|   0  Tesla T4                       Off |   00000000:00:04.0 Off |                    0 |\n",
            "| N/A   51C    P8              9W /   70W |       0MiB /  15360MiB |      0%      Default |\n",
            "|                                         |                        |                  N/A |\n",
            "+-----------------------------------------+------------------------+----------------------+\n",
            "                                                                                         \n",
            "+-----------------------------------------------------------------------------------------+\n",
            "| Processes:                                                                              |\n",
            "|  GPU   GI   CI        PID   Type   Process name                              GPU Memory |\n",
            "|        ID   ID                                                               Usage      |\n",
            "|=========================================================================================|\n",
            "|  No running processes found                                                             |\n",
            "+-----------------------------------------------------------------------------------------+\n"
          ]
        }
      ],
      "source": [
        "!nvidia-smi"
      ]
    },
    {
      "cell_type": "markdown",
      "source": [
        "# Budowa sieci neuronowych w PyTorch\n",
        "\n",
        "Sieci neuronowe składają się z warstw operujących na tensorach zawierająch przetwarzane dane.\n",
        "Warstwy są podstawowymi elementami składowymi sieci neuronowych.\n",
        "Przestrzeń nazw `torch.nn` zawiera implementację wielu warstw pozwalające budować sieci neuronowe o różnych architekturach (w pełni połączone, splotowe, rekurencyjne czy Transformer).\n",
        "Wszystkie warstwy z biblioteki PyTorch dziedziczą z klasy `nn.Module`.\n",
        "\n",
        "**UWAGA**: Samodzielnie zaimplementowane warstwy czy sieci złożone z wielu warstw muszą również dziedziczyć z klasy `nn.Module`.\n",
        "Pozwala to tworzyć sieci o złożonej architekturze, zawierające jako składowe prostsze sieci (moduły)."
      ],
      "metadata": {
        "id": "8BsG5XdS56aH"
      }
    },
    {
      "cell_type": "markdown",
      "source": [
        "###Warstwy"
      ],
      "metadata": {
        "id": "OFHYSncw_TAI"
      }
    },
    {
      "cell_type": "markdown",
      "source": [
        "Lista warstw zaimplementowana w bibliotece PyTorch: [link](https://pytorch.org/docs/stable/nn.html#module-torch.nn).\n",
        "\n",
        "\n",
        "Większość warstw wchodzących w skład sieci neuronowych jest parametryzowana - zawiera zestaw parametrów (wag). Parametry warstwy bądź modułu sieci neuronowej są dostępne przez metody `parameters()` lub `named_parameters()`.\n",
        "Parametry (wagi) modułów sieci są przechowywane jako tensory z domyślnie włączonym śledzeniem historii obliczeń (ustawiony atrybut `requires_grad`).\n",
        "Parametry modułów sieci są inicjalizowane losowo i optymalizowane w procesie uczenia sieci metodą spadku wzdłuż gradientu."
      ],
      "metadata": {
        "id": "lbe8rNwr_WF_"
      }
    },
    {
      "cell_type": "code",
      "source": [
        "import torch\n",
        "import torch.nn as nn"
      ],
      "metadata": {
        "id": "IK33qyW5_n-T"
      },
      "execution_count": 2,
      "outputs": []
    },
    {
      "cell_type": "markdown",
      "source": [
        "###Warstwa liniowa\n",
        "**Warstwa liniowa** `nn.Linear` stosuje przekształcenie liniowe (a właściwie afiniczne) na wejściowym tensorze $x$.\n",
        "$$\n",
        "y = x W^T + b\n",
        "$$\n",
        "gdzie $W$ jest macierzą wag a $b$ wektorem obiążenia (bias). Warsta liniowa jest elementem składowym perceptronu wielowarstwowego.\n",
        "Parametry (wagi) warstwy liniowej, i wszystkich innych parametryzowanych warstw, są inicjalizowane losowo i optymalizowane w procesie uczenia.\n",
        "\n",
        "Dokumentacja: [link](https://pytorch.org/docs/stable/generated/torch.nn.Linear.html)."
      ],
      "metadata": {
        "id": "CBvb6zE__wxW"
      }
    },
    {
      "cell_type": "code",
      "source": [
        "def print_layer_parameters(layer: nn.Module):\n",
        "    print(f\"Parametry warstwy/modułu:\")\n",
        "    for name, param in layer.named_parameters():\n",
        "        print(f\"{name}: {param.shape=}  {param.requires_grad=}\")"
      ],
      "metadata": {
        "id": "e741v26rAZxi"
      },
      "execution_count": 3,
      "outputs": []
    },
    {
      "cell_type": "code",
      "source": [
        "linear_layer = nn.Linear(in_features=10000, out_features=8)\n",
        "print(linear_layer)\n",
        "\n",
        "x = torch.rand((4, 10000))\n",
        "print(f\"\\nRozmiar wejściowy: {x.shape}\")\n",
        "y = linear_layer(x)\n",
        "print(f\"Rozmiar wyjściowy: {y.shape}\")\n",
        "\n",
        "print_layer_parameters(linear_layer)"
      ],
      "metadata": {
        "colab": {
          "base_uri": "https://localhost:8080/"
        },
        "id": "g3LSZHo6AdSB",
        "outputId": "be263333-95c1-4d9f-f3fa-1e9c1212687d"
      },
      "execution_count": 4,
      "outputs": [
        {
          "output_type": "stream",
          "name": "stdout",
          "text": [
            "Linear(in_features=10000, out_features=8, bias=True)\n",
            "\n",
            "Rozmiar wejściowy: torch.Size([4, 10000])\n",
            "Rozmiar wyjściowy: torch.Size([4, 8])\n",
            "Parametry warstwy/modułu:\n",
            "weight: param.shape=torch.Size([8, 10000])  param.requires_grad=True\n",
            "bias: param.shape=torch.Size([8])  param.requires_grad=True\n"
          ]
        }
      ]
    },
    {
      "cell_type": "markdown",
      "source": [
        "###Warstwy nieliniowe\n",
        "\n",
        "Poniżej opisanych jest kilka wybranych funkcji nieliniowych zaimplementowanych w bibliotece PyTorch.\n",
        "Zauważmy, że przedstawione poniżej warstwy nieliniowe nie posiadają parametrów optymalizowanych w procesie uczenia."
      ],
      "metadata": {
        "id": "aK9w6vzvBGQi"
      }
    },
    {
      "cell_type": "markdown",
      "source": [
        "**Warstwa nieliniowości** `nn.ReLU` (*rectified linear unit*) stosuje do każdego elemetu tensora funkcję:\n",
        "$$\n",
        "\\mathrm{ReLU(x)} = \\max(0, x)\n",
        "$$\n",
        "\n",
        "Dokumentacja: [link](https://pytorch.org/docs/stable/generated/torch.nn.ReLU.html)."
      ],
      "metadata": {
        "id": "w4UATrjhBP0Y"
      }
    },
    {
      "cell_type": "code",
      "source": [
        "from matplotlib import pyplot as plt\n",
        "from matplotlib.pyplot import figure\n",
        "\n",
        "#Pomocnicza funkcja ilustrująca działanie warstwy nieliniowości\n",
        "def test_nonlinearity(nonlienar_layer: nn.Module, label:str):\n",
        "    x = torch.rand((10,))*10 - 5     # Losowy 10-elementowy tensor o wartościach z przedziału (-10, 10)\n",
        "    print(f\"{x=}\")\n",
        "    y = nonlienar_layer(x)\n",
        "    print(f\"{y=}\")\n",
        "\n",
        "    # Wizualizacja wyników\n",
        "    x = torch.linspace(-7, 7, 100)\n",
        "    y = nonlienar_layer(x)\n",
        "    figure(figsize=(3, 3))\n",
        "    plt.plot(x.detach().numpy(), y.detach().numpy())\n",
        "    plt.grid(True, linestyle='--', alpha=0.6)\n",
        "    plt.xlabel(\"x\")\n",
        "    plt.ylabel(label)\n",
        "    plt.show()"
      ],
      "metadata": {
        "id": "zXEx2tjfBTkj"
      },
      "execution_count": 5,
      "outputs": []
    },
    {
      "cell_type": "code",
      "source": [
        "nonlinear_layer = nn.ReLU()\n",
        "\n",
        "test_nonlinearity(nonlinear_layer, \"ReLU\")\n",
        "print_layer_parameters(nonlinear_layer)"
      ],
      "metadata": {
        "colab": {
          "base_uri": "https://localhost:8080/",
          "height": 398
        },
        "id": "qscl9jHsBbwx",
        "outputId": "37e42715-3184-4409-c166-8785b7bdad1c"
      },
      "execution_count": 6,
      "outputs": [
        {
          "output_type": "stream",
          "name": "stdout",
          "text": [
            "x=tensor([ 0.2167,  2.1441,  2.5565, -2.9552, -1.4084,  4.4286,  0.1191,  2.7003,\n",
            "        -4.7855, -3.8637])\n",
            "y=tensor([0.2167, 2.1441, 2.5565, 0.0000, 0.0000, 4.4286, 0.1191, 2.7003, 0.0000,\n",
            "        0.0000])\n"
          ]
        },
        {
          "output_type": "display_data",
          "data": {
            "text/plain": [
              "<Figure size 300x300 with 1 Axes>"
            ],
            "image/png": "[encoded data removed]"
          },
          "metadata": {}
        },
        {
          "output_type": "stream",
          "name": "stdout",
          "text": [
            "Parametry warstwy/modułu:\n"
          ]
        }
      ]
    },
    {
      "cell_type": "markdown",
      "source": [
        "**Warstwa nieliniowości** `nn.GELU` (*Gaussian Error Linear Unit*) stosuje do każdego elemetu tensora funkcję:\n",
        "$$\n",
        "\\mathrm{GELU(x)} = x \\cdot \\Phi \\left( x \\right) \\, ,\n",
        "$$\n",
        "gdzie $\\Phi$ jest dystrybuantą rozkładu normalnego.\n",
        "Dokumentacja: [link](https://pytorch.org/docs/stable/generated/torch.nn.GELU.html#torch.nn.GELU)."
      ],
      "metadata": {
        "id": "bi5MiuJTBoY6"
      }
    },
    {
      "cell_type": "code",
      "source": [
        "nonlinear_layer = nn.GELU()\n",
        "test_nonlinearity(nonlinear_layer, \"GELU\")\n",
        "print_layer_parameters(nonlinear_layer)"
      ],
      "metadata": {
        "colab": {
          "base_uri": "https://localhost:8080/",
          "height": 398
        },
        "id": "dHYxcm1yB1B6",
        "outputId": "720129d4-9c13-4694-b849-b303bebd3879"
      },
      "execution_count": 7,
      "outputs": [
        {
          "output_type": "stream",
          "name": "stdout",
          "text": [
            "x=tensor([ 0.4982,  1.3420, -2.0551, -4.7726, -3.1443,  4.7856,  1.7094, -4.3545,\n",
            "         0.5162, -2.2370])\n",
            "y=tensor([ 3.4420e-01,  1.2215e+00, -4.0964e-02, -4.2671e-06, -2.6181e-03,\n",
            "         4.7856e+00,  1.6347e+00, -2.8939e-05,  3.5985e-01, -2.8286e-02])\n"
          ]
        },
        {
          "output_type": "display_data",
          "data": {
            "text/plain": [
              "<Figure size 300x300 with 1 Axes>"
            ],
            "image/png": "[encoded data removed]"
          },
          "metadata": {}
        },
        {
          "output_type": "stream",
          "name": "stdout",
          "text": [
            "Parametry warstwy/modułu:\n"
          ]
        }
      ]
    },
    {
      "cell_type": "markdown",
      "source": [
        "**Warstwa nieliniowości** `nn.SiLU` (*Sigmoid Linear Unit*, zwana również *swish*) stosuje do każdego elemetu tensora funkcję:\n",
        "$$\n",
        "\\mathrm{SiLU(x)} = x \\cdot \\sigma \\left( x \\right) \\, ,\n",
        "$$\n",
        "gdzie $\\sigma$ jest funkcją logistyczną (sigmoidalną) zdefiniowaną:\n",
        "$$\n",
        "\\sigma(x) = \\frac{1}{1+e^{-x}}\n",
        "$$\n",
        "Dokumentacja: [link](https://pytorch.org/docs/stable/generated/torch.nn.SiLU.html)."
      ],
      "metadata": {
        "id": "dfFqFLvsB4ej"
      }
    },
    {
      "cell_type": "code",
      "source": [
        "nonlinearz_layer = nn.SiLU()\n",
        "test_nonlinearity(nonlinearz_layer, \"SiLU\")\n",
        "print_layer_parameters(nonlinear_layer)"
      ],
      "metadata": {
        "colab": {
          "base_uri": "https://localhost:8080/",
          "height": 398
        },
        "id": "Tri0lL6gB-ut",
        "outputId": "fd7a0dcf-2875-471c-b587-9192ce141d3d"
      },
      "execution_count": 8,
      "outputs": [
        {
          "output_type": "stream",
          "name": "stdout",
          "text": [
            "x=tensor([ 1.2319,  1.8692, -1.0255, -4.6252,  2.2356,  2.9119, -1.7532, -1.4903,\n",
            "        -2.4425,  1.8893])\n",
            "y=tensor([ 0.9537,  1.6195, -0.2707, -0.0449,  2.0197,  2.7617, -0.2588, -0.2740,\n",
            "        -0.1954,  1.6412])\n"
          ]
        },
        {
          "output_type": "display_data",
          "data": {
            "text/plain": [
              "<Figure size 300x300 with 1 Axes>"
            ],
            "image/png": "[encoded data removed]"
          },
          "metadata": {}
        },
        {
          "output_type": "stream",
          "name": "stdout",
          "text": [
            "Parametry warstwy/modułu:\n"
          ]
        }
      ]
    },
    {
      "cell_type": "markdown",
      "source": [
        "**Warstwa nieliniowości** `nn.Sigmoid` stosuje do każdego elemetu tensora funkcję logistyczną (sigmoidalną):\n",
        "$$\n",
        "\\mathrm{Sigmoid(x)} = \\sigma(x) =  \\frac{1}{1+e^{-x}}\n",
        "$$\n",
        "Dokumentacja: [link](https://pytorch.org/docs/stable/generated/torch.nn.Sigmoid.html#torch.nn.Sigmoid)."
      ],
      "metadata": {
        "id": "xfOw5FYRCEF7"
      }
    },
    {
      "cell_type": "code",
      "source": [
        "nonlinearz_layer = nn.Sigmoid()\n",
        "test_nonlinearity(nonlinearz_layer, \"Sigmoid\")\n",
        "print_layer_parameters(nonlinear_layer)"
      ],
      "metadata": {
        "colab": {
          "base_uri": "https://localhost:8080/",
          "height": 398
        },
        "id": "6bQDjv_fCIiK",
        "outputId": "a4c9271f-6592-4fb2-b1ef-169cb0e631e0"
      },
      "execution_count": 9,
      "outputs": [
        {
          "output_type": "stream",
          "name": "stdout",
          "text": [
            "x=tensor([ 4.7982, -0.5268, -0.5156, -0.2375,  4.4526, -3.2935, -4.5599,  3.3562,\n",
            "         4.7292,  3.7169])\n",
            "y=tensor([0.9918, 0.3713, 0.3739, 0.4409, 0.9885, 0.0358, 0.0104, 0.9663, 0.9912,\n",
            "        0.9763])\n"
          ]
        },
        {
          "output_type": "display_data",
          "data": {
            "text/plain": [
              "<Figure size 300x300 with 1 Axes>"
            ],
            "image/png": "[encoded data removed]"
          },
          "metadata": {}
        },
        {
          "output_type": "stream",
          "name": "stdout",
          "text": [
            "Parametry warstwy/modułu:\n"
          ]
        }
      ]
    },
    {
      "cell_type": "markdown",
      "source": [
        "**Warstwa nieliniowości** `nn.Tanh`  stosuje do każdego elemetu tensora funkcję tangensa hiperbolicznego:\n",
        "$$\n",
        "\\mathrm{tanh(x)} = \\frac{e^x - e^{-x}}{e^x + e^{-x}}\n",
        "$$\n",
        "Dokumentacja: [link](https://pytorch.org/docs/stable/generated/torch.nn.Tanh.html#torch.nn.Tanh)."
      ],
      "metadata": {
        "id": "c52Ze-ZNCMJb"
      }
    },
    {
      "cell_type": "code",
      "source": [
        "nonlinearz_layer = nn.Tanh()\n",
        "test_nonlinearity(nonlinearz_layer, \"Tanh\")\n",
        "print_layer_parameters(nonlinear_layer)"
      ],
      "metadata": {
        "colab": {
          "base_uri": "https://localhost:8080/",
          "height": 398
        },
        "id": "LzcmI11gCN2y",
        "outputId": "934c611e-9452-42ad-c6de-12edd1e2486b"
      },
      "execution_count": 10,
      "outputs": [
        {
          "output_type": "stream",
          "name": "stdout",
          "text": [
            "x=tensor([ 1.9464, -3.3401,  1.0432, -4.5302, -3.4140,  4.7768,  2.3210,  2.7423,\n",
            "         4.4502,  0.6234])\n",
            "y=tensor([ 0.9600, -0.9975,  0.7792, -0.9998, -0.9978,  0.9999,  0.9809,  0.9917,\n",
            "         0.9997,  0.5535])\n"
          ]
        },
        {
          "output_type": "display_data",
          "data": {
            "text/plain": [
              "<Figure size 300x300 with 1 Axes>"
            ],
            "image/png": "[encoded data removed]"
          },
          "metadata": {}
        },
        {
          "output_type": "stream",
          "name": "stdout",
          "text": [
            "Parametry warstwy/modułu:\n"
          ]
        }
      ]
    },
    {
      "cell_type": "markdown",
      "source": [
        "###Warstwy normalizacji"
      ],
      "metadata": {
        "id": "D98LlajP7UrR"
      }
    },
    {
      "cell_type": "markdown",
      "source": [
        "**Normalizacja wsadu** stosowana jest do normalizacji wartości przetwarzanych wektorów cech poprzez odjęcie średniej i podzielenie przez odchylenie standardowe. Pozwala to ustabilizować i przyśpieszyć proces uczenia i może poprawić generalizację modelu. Często stosowana jest w sieciach splotowych. Do dobrego działania wymaga wykorzystania dużych wsadów podczas trenowania modelu.\n",
        "\n",
        "Warstwa normalizacji wsadu zdefiniowana jest wzorem:\n",
        "\n",
        "$$\n",
        "y = \\frac{x - \\mathbb{E}[x]}{\\sqrt{\\mathrm{Var}[x] + \\epsilon}} \\cdot \\gamma + \\beta\n",
        "$$\n",
        "$\\gamma$ i $\\beta$ są wyuczonymi parametrami rozmiaru $C$, gdzie $C$ jest liczbą cech albo kanałów wejścia.\n",
        "* **W fazie treningu** - wartość oczekiwana i wariancja obliczane są po elementach wsadu. Dodatkowo obliczana i zapamiętywana jest średnia krocząca wartości oczekiwanej i wariancji dla wszystkich przetworzonych wsadów.\n",
        "* **W fazie inferencji** - wykorzystywana jest wyznaczona w fazie treningu średnia krocząca wartości oczekiwanej i wariancji.\n",
        "\n",
        "Warstwa `nn.BatchNorm1d` akceptuje tensor rozmiaru $(N, C)$ lub $(N, C, L)$ i zwraca tensor tego samego rozmiaru. Dokumentacja: [link](https://pytorch.org/docs/stable/generated/torch.nn.BatchNorm1d.html#torch.nn.BatchNorm1d).\n",
        "\n",
        "Do normalizacji danych obrazowych stosowana jest warstwa `nn.BatchNorm2d` przetwarzająca mapy cech wizyjnych rozmiaru $(N,C,H,W)$."
      ],
      "metadata": {
        "id": "5y-doojd7TPD"
      }
    },
    {
      "cell_type": "code",
      "source": [
        "def print_batchnorm_params(layer: nn.Module):\n",
        "    print(\"Parametry warstwy:\")\n",
        "    print(f\"Średnia krocząca wartości oczekiwanej: {layer.running_mean}\")\n",
        "    print(f\"Średnia krocząca wariancji: {layer.running_var}\")"
      ],
      "metadata": {
        "id": "j8zuuVIj7fWO"
      },
      "execution_count": 11,
      "outputs": []
    },
    {
      "cell_type": "code",
      "source": [
        "# Defnicja warstwy BatchNorm1d\n",
        "num_features = 5                # Liczba cech (kanałów)\n",
        "batch_norm = nn.BatchNorm1d(num_features)\n",
        "# Domyślnie warstwa tworzona jest w trybie treningowym (atrybut training ustawiony na True)\n",
        "print(f\"Tryb treningowy: {batch_norm.training=}\")\n",
        "print_batchnorm_params(batch_norm)\n",
        "\n",
        "# Utwórz losowy tensor\n",
        "batch_size = 3\n",
        "input_tensor = torch.randn(batch_size, num_features)\n",
        "\n",
        "print(f\"Wejściowy tensor:\\n {input_tensor}\")\n",
        "\n",
        "# zastosuj batchnormId\n",
        "output_tensor = batch_norm(input_tensor)\n",
        "\n",
        "print(\"\\nPo zastosowaniu normalizacji wsadu:\")\n",
        "print(output_tensor)\n",
        "\n",
        "print(\"\\nŚrednie po wymiarze 0 (rozmiar wsadu):\")\n",
        "print(output_tensor.mean(dim=0))\n",
        "print(f\"Odchylenie standardowe po wymiarze 0 (rozmiar wsadu): {output_tensor.std(dim=0)}\")\n",
        "print()\n",
        "\n",
        "print(\"\\nŚrednie po wymiarze 1 (elementy wektorów cech/kanały):\")\n",
        "print(output_tensor.mean(dim=1))\n",
        "print(f\"Odchylenie standardowe po wymiarze 1 (elementy wektorów cech/kanały): {output_tensor.std(dim=1)}\")\n",
        "print()\n",
        "\n",
        "\n",
        "print_batchnorm_params(batch_norm)"
      ],
      "metadata": {
        "colab": {
          "base_uri": "https://localhost:8080/"
        },
        "id": "nQzDo3v2700e",
        "outputId": "275ab8d9-9f8d-4c46-dd72-46760fc9b1c7"
      },
      "execution_count": 12,
      "outputs": [
        {
          "output_type": "stream",
          "name": "stdout",
          "text": [
            "Tryb treningowy: batch_norm.training=True\n",
            "Parametry warstwy:\n",
            "Średnia krocząca wartości oczekiwanej: tensor([0., 0., 0., 0., 0.])\n",
            "Średnia krocząca wariancji: tensor([1., 1., 1., 1., 1.])\n",
            "Wejściowy tensor:\n",
            " tensor([[ 0.0945,  0.2079, -0.6937,  1.1523,  0.6219],\n",
            "        [ 1.1916, -0.7696, -1.0656,  0.3289,  0.2166],\n",
            "        [ 0.0966, -0.4587, -0.8714, -0.1997, -0.3088]])\n",
            "\n",
            "Po zastosowaniu normalizacji wsadu:\n",
            "tensor([[-0.7091,  1.3439,  1.2060,  1.3035,  1.1688],\n",
            "        [ 1.4142, -1.0531, -1.2422, -0.1766,  0.1051],\n",
            "        [-0.7051, -0.2908,  0.0362, -1.1268, -1.2739]],\n",
            "       grad_fn=<NativeBatchNormBackward0>)\n",
            "\n",
            "Średnie po wymiarze 0 (rozmiar wsadu):\n",
            "tensor([-5.9605e-08, -1.9868e-08, -3.8619e-07,  3.9736e-08, -3.9736e-08],\n",
            "       grad_fn=<MeanBackward1>)\n",
            "Odchylenie standardowe po wymiarze 0 (rozmiar wsadu): tensor([1.2247, 1.2247, 1.2245, 1.2247, 1.2247], grad_fn=<StdBackward0>)\n",
            "\n",
            "\n",
            "Średnie po wymiarze 1 (elementy wektorów cech/kanały):\n",
            "tensor([ 0.8626, -0.1905, -0.6721], grad_fn=<MeanBackward1>)\n",
            "Odchylenie standardowe po wymiarze 1 (elementy wektorów cech/kanały): tensor([0.8815, 1.0622, 0.5516], grad_fn=<StdBackward0>)\n",
            "\n",
            "Parametry warstwy:\n",
            "Średnia krocząca wartości oczekiwanej: tensor([ 0.0461, -0.0340, -0.0877,  0.0427,  0.0177])\n",
            "Średnia krocząca wariancji: tensor([0.9400, 0.9249, 0.9035, 0.9464, 0.9218])\n"
          ]
        }
      ]
    },
    {
      "cell_type": "markdown",
      "source": [
        "**Normalizacja warstwy** `nn.LayerNorm` podobnie jak `nn.BatchNorm1d` stosowana jest do normalizacji wartości przetwarzanych wektorów cech poprzez odjęcie średniej i podzielenie przez odchylenie standardowe.\n",
        "W odróżnieniu od warstwy `nn.BatchNorm1d` normalizacja przebiega po wymiarze cech (kanałów). Wartość oczekiwana i średnia wyznaczana jest dla każdego elementu wsadu z osobna.\n",
        "Normalizacja warstwy często stosowana jest w sieciach rekurencyjnych lub opartych o architekturę Transformer.\n",
        "\n",
        "Zdefiniowana jest wzorem:\n",
        "\n",
        "$$\n",
        "y = \\frac{x - \\mathbb{E}[x]}{\\sqrt{\\mathrm{Var}[x] + \\epsilon}} \\cdot \\gamma + \\beta \\, ,\n",
        "$$\n",
        "gdzie $\\gamma$ i $\\beta$ są wyuczonymi parametrami.\n",
        "\n",
        "Dokumentacja: [link](https://pytorch.org/docs/stable/generated/torch.nn.LayerNorm.html#torch.nn.LayerNorm)"
      ],
      "metadata": {
        "id": "9Tt0tQr59Hxh"
      }
    },
    {
      "cell_type": "code",
      "source": [
        "# Defnicja warstwy LayerNorm\n",
        "\n",
        "num_features = 5                # Liczba cech (kanałów)\n",
        "layer_norm = nn.LayerNorm(num_features)\n",
        "\n",
        "# Utwórz losowy tensor\n",
        "batch_size = 3\n",
        "input_tensor = torch.randn(batch_size, num_features)\n",
        "\n",
        "print(\"\\nWejściowy tensor:\")\n",
        "print(input_tensor)\n",
        "\n",
        "# Zastosuj BatchNorm1d\n",
        "output_tensor = layer_norm(input_tensor)\n",
        "\n",
        "print(\"\\nPo zastosowaniu normalizacji warstwy:\")\n",
        "print(output_tensor)\n",
        "\n",
        "print(\"\\nŚrednie po wymiarze 0 (rozmiar wsadu):\")\n",
        "print(output_tensor.mean(dim=0))\n",
        "print(f\"Odchylenie standardowe po wymiarze 0 (rozmiar wsadu): {output_tensor.std(dim=0)}\")\n",
        "print()\n",
        "\n",
        "print(\"\\nŚrednie po wymiarze 1 (elementy wektorów cech/kanały):\")\n",
        "print(output_tensor.mean(dim=1))\n",
        "print(f\"Odchylenie standardowe po wymiarze 1 (elementy wektorów cech/kanały): {output_tensor.std(dim=1)}\")\n",
        "print()\n"
      ],
      "metadata": {
        "colab": {
          "base_uri": "https://localhost:8080/"
        },
        "id": "Ooc-8ke-9dtl",
        "outputId": "a2976b21-f1dc-4307-ab8f-e750e8927d33"
      },
      "execution_count": 13,
      "outputs": [
        {
          "output_type": "stream",
          "name": "stdout",
          "text": [
            "\n",
            "Wejściowy tensor:\n",
            "tensor([[-0.2414,  0.1005,  0.8042, -0.1701, -0.8182],\n",
            "        [ 0.9350,  0.4581, -1.0954, -0.4917,  0.6786],\n",
            "        [ 1.1072,  0.3050, -0.3751,  0.0196, -0.3673]])\n",
            "\n",
            "Po zastosowaniu normalizacji warstwy:\n",
            "tensor([[-0.3342,  0.3136,  1.6471, -0.1992, -1.4273],\n",
            "        [ 1.0930,  0.4711, -1.5551, -0.7677,  0.7587],\n",
            "        [ 1.7698,  0.3051, -0.9365, -0.2160, -0.9224]],\n",
            "       grad_fn=<NativeLayerNormBackward0>)\n",
            "\n",
            "Średnie po wymiarze 0 (rozmiar wsadu):\n",
            "tensor([ 0.8429,  0.3632, -0.2815, -0.3943, -0.5303], grad_fn=<MeanBackward1>)\n",
            "Odchylenie standardowe po wymiarze 0 (rozmiar wsadu): tensor([1.0741, 0.0935, 1.6986, 0.3235, 1.1445], grad_fn=<StdBackward0>)\n",
            "\n",
            "\n",
            "Średnie po wymiarze 1 (elementy wektorów cech/kanały):\n",
            "tensor([ 1.7881e-08,  3.5763e-08, -1.4901e-08], grad_fn=<MeanBackward1>)\n",
            "Odchylenie standardowe po wymiarze 1 (elementy wektorów cech/kanały): tensor([1.1180, 1.1180, 1.1180], grad_fn=<StdBackward0>)\n",
            "\n"
          ]
        }
      ]
    },
    {
      "cell_type": "markdown",
      "source": [
        "**Warstwa odrzutu** `nn.Dropout` jest metodą regularyzacji wykorzystywaną w celu ograniczenia przeuczenia i polepszenia generalizacji sieci neuronowej.\n",
        "\n",
        "*   **W fazie treningu** zerowane są losowo wybrane elementy przetwarzanego tensora. Elementy przetwarzanego tensora wygaszane są niezależnie, każdy z niewielkim prawdopodobieństwem $p$. Dodatkowo wyjście jest skalowane ze współczynnikiem $\\frac{1}{1-p}$.\n",
        "*   **W fazie inferencji** warstwa jest przekształceniem identycznościowym.\n",
        "\n",
        "Dokumentacja: [link](https://pytorch.org/docs/stable/generated/torch.nn.Dropout.html)."
      ],
      "metadata": {
        "id": "SODV4Mef9qI0"
      }
    },
    {
      "cell_type": "markdown",
      "source": [
        "###Inne warstwy"
      ],
      "metadata": {
        "id": "EgikB9AD-DSI"
      }
    },
    {
      "cell_type": "markdown",
      "source": [
        "### Inne warstwy\n",
        "\n",
        "Warstwa `nn.Flatten` pozwala zlinearyzować (spłaszczyć) wejściowy tensor do mniejszej liczby wymiarów.\n",
        "Na przykład może zostać wykorzystana aby przekształcić obraz danych jako tensor $(n=4, c=3, h=64, w=64)$, gdzie $n$ jest rozmiarem wsadu, $c$ liczbą kanałów a $h, w$ to rodzielczość do rozmiarów $(n=4, c \\cdot h \\cdot w = 12\\, 228)$.\n",
        "\n",
        "Dokumentacja: [link](https://pytorch.org/docs/stable/generated/torch.nn.Linear.html)."
      ],
      "metadata": {
        "id": "hajEm2TngSmO"
      }
    },
    {
      "cell_type": "code",
      "source": [
        "image_height = 64\n",
        "image_width = 64\n",
        "image_tensor = torch.rand((4, 3, image_height, image_width))\n",
        "print(f\"Rozmiar wejściowy: {image_tensor.shape}\")\n",
        "\n",
        "flatten = nn.Flatten()\n",
        "flat_image = flatten(image_tensor)\n",
        "print(f\"Rozmiar wejściowy: {flat_image.shape}\")"
      ],
      "metadata": {
        "colab": {
          "base_uri": "https://localhost:8080/"
        },
        "id": "k6pUTbTEganz",
        "outputId": "53297897-7e35-4a50-8a33-6e166aa17bc1"
      },
      "execution_count": 14,
      "outputs": [
        {
          "output_type": "stream",
          "name": "stdout",
          "text": [
            "Rozmiar wejściowy: torch.Size([4, 3, 64, 64])\n",
            "Rozmiar wejściowy: torch.Size([4, 12288])\n"
          ]
        }
      ]
    },
    {
      "cell_type": "markdown",
      "source": [
        "**Warstwa sekwencyjna** `nn.Sequential` pozwala zgrupować wiele połączonych sekwencyjnie warstw i traktować je jak jedną warstwę. Dane są przetwarzane przez poszczególne moduły w kolejności zdefiniowanej przy tworzeniu warstwy sekwencyjnej.\n",
        "\n",
        "Przykład - **perceptron wielowarstwowy** (MLP - *multi layer perceptron*) składa się z kilku warstw liniowych połączonych warstwami nieliniowymi (np. `nn.ReLU`). Perceptron wielowarstwowy możemy zaimplementować jako warstwę sekwencyjną złożoną z trzech warstw liniowych oddzielonych nieliniowością `nn.ReLU`.\n",
        "\n",
        "Zastosowanie warstw nieliniowych jest konieczne aby perceptron definiował nieliniową funkcję wejściowego tensora. Bezpośrednie połączenie kilku warstw liniowych, bez nieliniowości, jest przekształceniem linowym (może zostać zastąpione równoważną pojedynczą warstwą `nn.Linear`)."
      ],
      "metadata": {
        "id": "3KdU9RKlgdOF"
      }
    },
    {
      "cell_type": "code",
      "source": [
        "my_mlp = nn.Sequential(\n",
        "    nn.Linear(10000, 256),\n",
        "    nn.ReLU(),\n",
        "    nn.Linear(256, 16),\n",
        "    nn.ReLU(),\n",
        "    nn.Linear(16, 4)\n",
        "    )\n",
        "\n",
        "print(my_mlp)\n",
        "print()\n",
        "\n",
        "input_tensor = torch.rand(2, 10000)\n",
        "print(f\"{input_tensor.shape=}\")\n",
        "logits = my_mlp(input_tensor)\n",
        "print(f\"{logits.shape=}\")"
      ],
      "metadata": {
        "colab": {
          "base_uri": "https://localhost:8080/"
        },
        "id": "4-Ht5iAQgntE",
        "outputId": "868a70d5-c4a2-479e-b6cf-8a5912b88312"
      },
      "execution_count": 15,
      "outputs": [
        {
          "output_type": "stream",
          "name": "stdout",
          "text": [
            "Sequential(\n",
            "  (0): Linear(in_features=10000, out_features=256, bias=True)\n",
            "  (1): ReLU()\n",
            "  (2): Linear(in_features=256, out_features=16, bias=True)\n",
            "  (3): ReLU()\n",
            "  (4): Linear(in_features=16, out_features=4, bias=True)\n",
            ")\n",
            "\n",
            "input_tensor.shape=torch.Size([2, 10000])\n",
            "logits.shape=torch.Size([2, 4])\n"
          ]
        }
      ]
    },
    {
      "cell_type": "markdown",
      "source": [
        "**Warstwa softmax** `nn.Softmax` stosuje funkcję Softmax wzdłuż podanego wymiaru wejściowego tensora. Stosowana do przekształcenia nieznormalizowanych wartości rzeczywistych zwracach przez sieć (zwanych logitami) w rozkład prawdopodobieństwa klas. Wynikowe wartości są z zakresu $[0, 1]$ i sumują się do $1$.\n",
        "\n",
        "$$\\mathrm{Softmax} \\left( x_i \\right)\n",
        "=\n",
        "\\frac{\\exp(x_i)}{\\sum_j \\exp(x_j)}\n",
        " $$\n",
        "\n",
        "**UWAGA:** Warstwa Softmax nie powinna być używana wewnątrz modułu klasyfikatora do wyznaczenia rozkładu prawdopodobieństwa klas.\n",
        "Klasyfikator oparty o sieć neuronową powinien zwracać nieznormalizowane wartości rzeczywiste (logity). Aby zwiększyć stabilność numeryczną funkcja straty `nn.CrossEntropyLoss` wykorzystywana w treningu klasyfikatorów oczekuje na wejściu nieznormalizowanych wartości (logitów) a NIE rozkładu prawdopodobieństwa.\n",
        "\n",
        "\n",
        "Dokumentacja: [link](https://pytorch.org/docs/stable/generated/torch.nn.Softmax.html#softmax)."
      ],
      "metadata": {
        "id": "S8y8ptHygvvL"
      }
    },
    {
      "cell_type": "code",
      "source": [
        "print(f\"{logits=}\")\n",
        "print(f\"Suma wartości logitów w wierszach: {logits.sum(dim=1)} \\n\")\n",
        "\n",
        "softmax = nn.Softmax(dim=1)\n",
        "\n",
        "probabilities = softmax(logits)\n",
        "print(f\"{probabilities}\")\n",
        "print(f\"Suma wartości w wierszach po zastosowaniu softmax: {probabilities.sum(dim=1)=}\\n\")\n",
        "\n",
        "print_layer_parameters(softmax)"
      ],
      "metadata": {
        "colab": {
          "base_uri": "https://localhost:8080/"
        },
        "id": "f-z9He3YhWzy",
        "outputId": "77b5091a-8b01-4a09-baa5-89d41946882d"
      },
      "execution_count": 16,
      "outputs": [
        {
          "output_type": "stream",
          "name": "stdout",
          "text": [
            "logits=tensor([[ 0.0758,  0.2032, -0.0531,  0.1306],\n",
            "        [ 0.0833,  0.2393, -0.0534,  0.1169]], grad_fn=<AddmmBackward0>)\n",
            "Suma wartości logitów w wierszach: tensor([0.3565, 0.3862], grad_fn=<SumBackward1>) \n",
            "\n",
            "tensor([[0.2456, 0.2790, 0.2159, 0.2595],\n",
            "        [0.2454, 0.2868, 0.2140, 0.2538]], grad_fn=<SoftmaxBackward0>)\n",
            "Suma wartości w wierszach po zastosowaniu softmax: probabilities.sum(dim=1)=tensor([1.0000, 1.0000], grad_fn=<SumBackward1>)\n",
            "\n",
            "Parametry warstwy/modułu:\n"
          ]
        }
      ]
    },
    {
      "cell_type": "markdown",
      "source": [
        "#Przykład: Perceptron wielowarstwowy\n",
        "\n",
        "W tym przykładzie zastosujemy **perceptron wielowarstwowy** do rozwiązania problemu klasyfikacji zbioru zawierającego syntetycznie wygenerowane punkty danych $x \\in \\mathbb{R}^{10}$ należące do dwóch klas.\n",
        "We wcześniejszym notatniku do klasyfikacje tych danych zastosowaliśmy metodę regresji logistycznej, zaimplementowaną z wykorzystaniem pojedycznej warstwy liniowej. Ponieważ punkty danych nie były liniowo separowalne skuteczność regresji logitycznej była ograniczona."
      ],
      "metadata": {
        "id": "HmlB0wlnhg_H"
      }
    },
    {
      "cell_type": "code",
      "source": [
        "device = torch.device(\"cuda:0\" if torch.cuda.is_available() else \"cpu\")# wybranie gpu, a jak nie odstepne to cpu\n",
        "print(\"Urządzenie: {}\".format(device))"
      ],
      "metadata": {
        "colab": {
          "base_uri": "https://localhost:8080/"
        },
        "id": "9hnCOKg6hrf-",
        "outputId": "3c5fe81f-2610-4ddf-b39b-0289a785d979"
      },
      "execution_count": 17,
      "outputs": [
        {
          "output_type": "stream",
          "name": "stdout",
          "text": [
            "Urządzenie: cuda:0\n"
          ]
        }
      ]
    },
    {
      "cell_type": "markdown",
      "source": [
        "##Generowanie syntetycznych danych\n",
        "Wygenerujmy zbiór zawierający syntetycznie wygeneorwane punkty danych $x \\in \\mathbb{R}^{10}$ należące do dwóch klas korzystając z funkcji `make_classification` z biblioteki scikit-learn ([link](https://scikit-learn.org/stable/modules/generated/sklearn.datasets.make_classification.html))."
      ],
      "metadata": {
        "id": "IVPCLsXX71Ze"
      }
    },
    {
      "cell_type": "code",
      "source": [
        "from sklearn.datasets import make_classification\n",
        "from sklearn.model_selection import train_test_split\n",
        "import numpy as np\n",
        "\n",
        "X, y = make_classification(n_samples=1000, n_features=10, n_classes=2, n_informative=5, random_state=39)\n",
        "\n",
        "X_train, x_test, y_train, y_test = train_test_split(X, y, test_size=0.2)\n",
        "\n",
        "print(f\"Liczba elementów w zbiorze danych: {X.shape[0]}\")\n",
        "print(f\"Liczba cech: {X.shape[1]}\")\n",
        "print(f\"Liczba klas: {len(np.unique(y))}\")"
      ],
      "metadata": {
        "colab": {
          "base_uri": "https://localhost:8080/"
        },
        "id": "iDzWXVI873il",
        "outputId": "618fff25-9175-45eb-c4b7-648c096b0cc0"
      },
      "execution_count": 21,
      "outputs": [
        {
          "output_type": "stream",
          "name": "stdout",
          "text": [
            "Liczba elementów w zbiorze danych: 1000\n",
            "Liczba cech: 10\n",
            "Liczba klas: 2\n"
          ]
        }
      ]
    },
    {
      "cell_type": "code",
      "source": [
        "print(X[:2])\n",
        "print(y[:2])\n",
        "print(X.shape)\n",
        "print(y.shape)"
      ],
      "metadata": {
        "colab": {
          "base_uri": "https://localhost:8080/"
        },
        "id": "nKGXmkMn8xyQ",
        "outputId": "59dc249d-ded2-4d91-f2ee-9a07cfdaa96b"
      },
      "execution_count": 28,
      "outputs": [
        {
          "output_type": "stream",
          "name": "stdout",
          "text": [
            "[[-4.60150980e-01 -3.97798603e+00 -1.80999809e+00 -8.92094337e-01\n",
            "  -2.78173698e+00  1.49904000e+00 -1.03562767e+00  2.66819713e+00\n",
            "  -3.58832424e+00 -3.08222932e+00]\n",
            " [ 7.84419044e-02 -3.46782807e+00  2.02885829e+00 -8.08185120e-01\n",
            "   2.16578073e-01 -1.20707461e+00 -1.28950482e-03 -5.24603091e-01\n",
            "   3.51380642e-01  5.69969889e+00]]\n",
            "[0 1]\n",
            "(1000, 10)\n",
            "(1000,)\n"
          ]
        }
      ]
    },
    {
      "cell_type": "markdown",
      "source": [
        "Wizualizacja dwóch wybranych cech. Możemy zauważyć, że dla dwóch losowo wybranych cech elementy z różnych klas nie są liniowo separowalne."
      ],
      "metadata": {
        "id": "AE-Ri7sm84Rr"
      }
    },
    {
      "cell_type": "code",
      "source": [
        "import random\n",
        "from matplotlib import pyplot as plt\n",
        "\n",
        "f1 = random.randint(0, X.shape[1]-1)\n",
        "f2 = random.randint(0, X.shape[1]-1)\n",
        "\n",
        "plt.scatter(X[y==0, f1], X[y==0, f2], color= 'blue', label='Klasa 0', alpha=0.7)\n",
        "plt.scatter(X[y==1, f1], X[y==1, f2], color='red', label='Klasa 1', alpha=0.7)\n",
        "plt.grid(True, linestyle='--', alpha=0.6)\n",
        "plt.xlabel(f\"Wartość cechy {f1}\")\n",
        "plt.ylabel(f\"Wartość cechy {f2}\")\n",
        "plt.legend()\n",
        "plt.show()\n",
        "\n",
        "\n"
      ],
      "metadata": {
        "colab": {
          "base_uri": "https://localhost:8080/",
          "height": 450
        },
        "id": "4NkcAEki85f9",
        "outputId": "c3b77566-2644-4d59-d1d4-3630e905118c"
      },
      "execution_count": 24,
      "outputs": [
        {
          "output_type": "display_data",
          "data": {
            "text/plain": [
              "<Figure size 640x480 with 1 Axes>"
            ],
            "image/png": "[encoded data removed]"
          },
          "metadata": {}
        }
      ]
    },
    {
      "cell_type": "markdown",
      "source": [
        "##Implementacja sieci neuronowej\n",
        "\n",
        "W PyTorch wszystkie klasy implementujące moduły sieci neuronowej dziedziczą z klasy `nn.Module`. Jeśli piszemy własną klasę definiującą moduł sieci neuronowej **musi ona również dziedziczyć z klasy `nn.Module`**.\n",
        "Utworzymy klasę `MyMLP` implementujący wielowarwarstwowy perceptron złożony z dwóch warstw liniowych `nn.Linear` i nieliniowości `ReLU`.\n",
        "Aby zmniejszyć ryzyko przeuczenia i poprawić generalizację sieci przed ostatnią warstwą liniową zastosujemy warstwę odrzutu `nn.Dropout`.\n",
        "\n",
        "*   W metodzie `__init__` inicjalizujemy warstwy i moduły wchodzących w skład sieci. Nic nie stoi na przeszkodzie aby częścią składową sieci była inna, wcześniej utworzona sieć.\n",
        "*   W metodzie `forward` definiujemy logikę przetwarzania danych przez sieć. Jakie operacje i w jakiej kolejności są wykonywane na wejściowych danych. Najczęściej metoda `forward` otrzymuje jako argument pojedyczny tensor (ale teoretycznie może otrzymać zestaw kilku tensorów) i zwraca wynikowy tensor (lub tensory).\n",
        "\n",
        "**UWAGA:** Kolejność definicji warstw w metodzie `__init__` nie określa kolejności w jakiej dane będą przetwarzane przez kolejne warstwy. Logikę przetwarzania dediniujemy w metodzie `forward`."
      ],
      "metadata": {
        "id": "AHqMByme9XJQ"
      }
    },
    {
      "cell_type": "code",
      "source": [
        "class MyMLP(nn.Module):\n",
        "    def __init__(self, n_features: int, n_classes: int):\n",
        "        super().__init__()\n",
        "        self.fc1 = nn.Linear(n_features, 5)\n",
        "        self.fc2 = nn.Linear(5, n_classes)\n",
        "        self.relu = nn.ReLU()\n",
        "        self.dropout = nn.Dropout(p=0.1)\n",
        "\n",
        "    def forward(self, x:torch.Tensor) -> torch.Tensor:\n",
        "        x = self.fc1(x)\n",
        "        x = self.relu(x)\n",
        "        x = self.dropout(x)\n",
        "        x = self.fc2(x)\n",
        "        return x"
      ],
      "metadata": {
        "id": "-0Il0FZU9piS"
      },
      "execution_count": 34,
      "outputs": []
    },
    {
      "cell_type": "markdown",
      "source": [
        "Utworzymy instancję klasy `MyMLP`. Jako argumenty podamy liczbę cech w zbiorze danych (`n_features`=10) oraz liczbę klas (`n_classes`=2)\n",
        "Dla porównaniu utworzymy również prostą sieć złożoną z jednej warstwy liniowej.\n",
        "Zauważmy, że zarówno dostępna w bibliotece PyTorch warstwa `nn.Linear` jak i zaimplementowana przez nas klasa `MyMLP` są pochodnymi klasy `nn.Module`."
      ],
      "metadata": {
        "id": "TAf3cT-H_Xqz"
      }
    },
    {
      "cell_type": "code",
      "source": [
        "import torch.nn as nn\n",
        "\n",
        "n_features = X.shape[1]\n",
        "\n",
        "mlp_net = MyMLP(n_features, 2)\n",
        "linear_net = nn.Linear(n_features, 2)\n",
        "\n",
        "print(f\"{isinstance(linear_net, nn.Module)=}\")\n",
        "print(f\"{isinstance(mlp_net, nn.Module)=}\")"
      ],
      "metadata": {
        "colab": {
          "base_uri": "https://localhost:8080/"
        },
        "id": "hRPzxrhp_gNL",
        "outputId": "0864e4ef-e1fe-45f1-efb4-dcb77022b1e0"
      },
      "execution_count": 35,
      "outputs": [
        {
          "output_type": "stream",
          "name": "stdout",
          "text": [
            "isinstance(linear_net, nn.Module)=True\n",
            "isinstance(mlp_net, nn.Module)=True\n"
          ]
        }
      ]
    },
    {
      "cell_type": "code",
      "source": [
        "print(mlp_net)"
      ],
      "metadata": {
        "colab": {
          "base_uri": "https://localhost:8080/"
        },
        "id": "8RaaO5ELHgFT",
        "outputId": "fc75bffe-2a02-41d5-8ebf-f50b34096c68"
      },
      "execution_count": 36,
      "outputs": [
        {
          "output_type": "stream",
          "name": "stdout",
          "text": [
            "MyMLP(\n",
            "  (fc1): Linear(in_features=10, out_features=5, bias=True)\n",
            "  (fc2): Linear(in_features=5, out_features=2, bias=True)\n",
            "  (relu): ReLU()\n",
            "  (dropout): Dropout(p=0.1, inplace=False)\n",
            ")\n"
          ]
        }
      ]
    },
    {
      "cell_type": "code",
      "source": [
        "print(linear_net)"
      ],
      "metadata": {
        "colab": {
          "base_uri": "https://localhost:8080/"
        },
        "id": "1gJFQxB8HitZ",
        "outputId": "4fccf379-cfd8-4533-fed7-a1a60747ed2e"
      },
      "execution_count": 37,
      "outputs": [
        {
          "output_type": "stream",
          "name": "stdout",
          "text": [
            "Linear(in_features=10, out_features=2, bias=True)\n"
          ]
        }
      ]
    },
    {
      "cell_type": "markdown",
      "source": [
        "Sprawdźmy działanie obu sieci. Każda z nich po przetworzeniu wsadu wektorów cech $X \\in \\mathbb{R}^{N \\times 10}$ zwraca tensor liczb rzeczywistych rozmiaru $(N, 2)$.\n",
        "Zauważmy, że tensor `z` zawierający wynikowe wartości ma włączone śledzenie obliczeń (`requires_grad=True`).\n",
        "\n",
        "**UWAGA:** Aby przetworzyć dane przez moduł sieci NIE należy wywoływać bezpośrednio metody `forward`. Podajemy dane bezpośrednio do modelu, na przykład `my_model(X)`. Pozwala to oprócz przejścia w przód (*forward*) wykonać dodatkowe operacje niezbędne do prawidłowego działania sieci."
      ],
      "metadata": {
        "id": "uaXojGm4Hl4r"
      }
    },
    {
      "cell_type": "code",
      "source": [
        "X_train_tensor = torch.tensor(X_train, dtype=torch.float32)\n",
        "y_train_tensor = torch.tensor(y_train, dtype=torch.int64)\n",
        "X_test_tensor = torch.tensor(x_test, dtype=torch.float32)\n",
        "y_test_tensor = torch.tensor(y_test, dtype=torch.int64)\n",
        "\n",
        "z = linear_net(X_train_tensor)\n",
        "print(\"linear_net:\")\n",
        "print(f\"Rozmiar wejścia: {X_train_tensor.shape}\")\n",
        "print(f\"Rozmiar wyjścia: {z.shape}\")\n",
        "print(f\"Wyjście (pierwsze 5 elementów): {z[:5]}\")\n",
        "print(f\"{z.requires_grad=}\\n\")"
      ],
      "metadata": {
        "colab": {
          "base_uri": "https://localhost:8080/"
        },
        "id": "7GPc7wzBHwyA",
        "outputId": "ed245b73-988c-4458-a6a9-b9337becd4c3"
      },
      "execution_count": 42,
      "outputs": [
        {
          "output_type": "stream",
          "name": "stdout",
          "text": [
            "linear_net:\n",
            "Rozmiar wejścia: torch.Size([800, 10])\n",
            "Rozmiar wyjścia: torch.Size([800, 2])\n",
            "Wyjście (pierwsze 5 elementów): tensor([[ 0.3387,  0.5785],\n",
            "        [-0.5632,  1.5130],\n",
            "        [-0.6616,  0.0139],\n",
            "        [-1.0285, -0.5934],\n",
            "        [ 0.1780,  0.5516]], grad_fn=<SliceBackward0>)\n",
            "z.requires_grad=True\n",
            "\n"
          ]
        }
      ]
    },
    {
      "cell_type": "code",
      "source": [
        "z = mlp_net(X_train_tensor)\n",
        "print(\"mlp_net:\")\n",
        "print(f\"Rozmiar wejścia: {X_train_tensor.shape}\")\n",
        "print(f\"Rozmiar wyjścia: {z.shape}\")\n",
        "print(f\"Wyjście (pierwsze 5 elementów): {z[:5]}\")\n",
        "print(f\"{z.requires_grad=}\")"
      ],
      "metadata": {
        "colab": {
          "base_uri": "https://localhost:8080/"
        },
        "id": "Xzk7s_efIXBx",
        "outputId": "cd6e592c-e353-4e33-eb3b-073a7eae6f16"
      },
      "execution_count": 39,
      "outputs": [
        {
          "output_type": "stream",
          "name": "stdout",
          "text": [
            "mlp_net:\n",
            "Rozmiar wejścia: torch.Size([800, 10])\n",
            "Rozmiar wyjścia: torch.Size([800, 2])\n",
            "Wyjście (pierwsze 5 elementów): tensor([[ 0.1318,  0.3172],\n",
            "        [ 0.3921,  0.1144],\n",
            "        [-0.0514,  0.4752],\n",
            "        [ 0.8376,  0.2173],\n",
            "        [ 0.4731, -0.1127]], grad_fn=<SliceBackward0>)\n",
            "z.requires_grad=True\n"
          ]
        }
      ]
    },
    {
      "cell_type": "markdown",
      "source": [
        "W naszym przypadku wyjścia z sieci możemy je traktować jako nieznormalizowane rozkłady prawdopodobieństwa każdej klasy.\n",
        "W literaturze poświęconej głębokiemu uczeniu nieznormalizowane wyjścia z sieci przyjmujące wartości rzeczywiste z zakresu $\\left( -\\infty, \\infty \\right)$ zwane są **logitami**.\n",
        "Aby zamienić wyjścia z sieci (logity) na rozkład prawdopodobieństwa klas należy zastosować funkcję softmax.\n",
        "\n",
        "**WAŻNE**: Nie należy normalizować wartości zwracanych przez sieć, na przykład stosując funkcję softmax lub sigmoid  wewnątrz modułu sieci. Ze względu na stabilność numeryczną funkcje straty zaimplementowane w PyTorch, takie jak entropia krzyżowa, domyślnie operują na nieznormalizowanych wartościach (logitach)."
      ],
      "metadata": {
        "id": "KqU7lh3HIq32"
      }
    },
    {
      "cell_type": "code",
      "source": [
        "print(f\"Surowe wyjścia z sieci (logity)\")\n",
        "print(f\"{z=}\")\n",
        "print(f\"\\nWyjścia z sieci po normalizacji (softmax)\")\n",
        "print(f\"{torch.nn.functional.softmax(z)=}\")"
      ],
      "metadata": {
        "colab": {
          "base_uri": "https://localhost:8080/"
        },
        "id": "XDRFSF77ItMi",
        "outputId": "4e61d068-b095-47de-c162-df1d765983ed"
      },
      "execution_count": 40,
      "outputs": [
        {
          "output_type": "stream",
          "name": "stdout",
          "text": [
            "Surowe wyjścia z sieci (logity)\n",
            "z=tensor([[ 0.1318,  0.3172],\n",
            "        [ 0.3921,  0.1144],\n",
            "        [-0.0514,  0.4752],\n",
            "        ...,\n",
            "        [ 0.2463,  0.5416],\n",
            "        [ 0.6520,  0.2428],\n",
            "        [-0.0775,  0.4974]], grad_fn=<AddmmBackward0>)\n",
            "\n",
            "Wyjścia z sieci po normalizacji (softmax)\n",
            "torch.nn.functional.softmax(z)=tensor([[0.4538, 0.5462],\n",
            "        [0.5690, 0.4310],\n",
            "        [0.3713, 0.6287],\n",
            "        ...,\n",
            "        [0.4267, 0.5733],\n",
            "        [0.6009, 0.3991],\n",
            "        [0.3601, 0.6399]], grad_fn=<SoftmaxBackward0>)\n"
          ]
        },
        {
          "output_type": "stream",
          "name": "stderr",
          "text": [
            "<ipython-input-40-fa53eab7a003>:4: UserWarning: Implicit dimension choice for softmax has been deprecated. Change the call to include dim=X as an argument.\n",
            "  print(f\"{torch.nn.functional.softmax(z)=}\")\n"
          ]
        }
      ]
    },
    {
      "cell_type": "code",
      "source": [
        "def calc_accuracy(logits: torch.Tensor, y_true: torch.Tensor) -> float:\n",
        "    y_pred_labels = torch.argmax(logits, dim=1).float()\n",
        "    accuracy = (y_pred_labels == y_true).sum().item() / y_true.size(0)\n",
        "    return accuracy"
      ],
      "metadata": {
        "id": "zODZtck9NdGw"
      },
      "execution_count": 45,
      "outputs": []
    },
    {
      "cell_type": "markdown",
      "source": [
        "Funkcja `train_network` implementuje prostą pętlę treningową modelu sieci neuronowej.\n",
        "\n",
        "*   Trening modelu jest podzielony na **epoki**. W czasie jednej epoki następuje jednokrotne przejście przez zbiór danych.\n",
        "*   Zwykle w każdej epoce iteracyjnie przetwarzane są kolejne **wsady** ze zbioru danych. W naszym przypadku, ponieważ zbiór danych jest względnie mały, wsad zawiera wszystkie dane.\n",
        "*   Przetworzenie jednego wsadu (w naszym przypadku wszystkich danych) składa się z następujących kroków:\n",
        "    * Przetworzenie elementów wsadu przez sieć (przejście w przód): `logits = model(X_train_tensor)`\n",
        "    *   Wyznaczenie wartość funkcji straty `loss = criterion(logits, y_train_tensor)`\n",
        "    *   Wyznaczanie gradientu funkcji straty względem parametrów sieci (przejście w tył): `loss.backward()`\n",
        "    *   Krok optymalizacji parametrów sieci: `optimizer.step()`\n",
        "\n",
        "Jako funkcję straty wykorzystamy `CrossEntropyLoss`, łączącą w jednej klasie funkcję Softmax i funkcję straty binarnej entropii krzyżowej (patrz: [link](https://pytorch.org/docs/stable/generated/torch.nn.BCEWithLogitsLoss.html#torch.nn.CrossEntropyLoss)).\n",
        "\n",
        "**WAŻNE - specyfika PyTorcha:**\n",
        "\n",
        "*   Domyślnie gradienty zapamiętywane w tensorach podlegających optymalizacji (wagach sieci) akumulują się po każdym wywołaniu przejścia w tył (metody `backward`). Dlatego konieczne jest wyzerowanie gradientów poleceniem `optimizer.zero_grad()`. Więcej informacji: [link](https://stackoverflow.com/questions/48001598/why-do-we-need-to-call-zero-grad-in-pytorch).\n",
        "*   Moduł sieci neuronowej może być w trybie treningowym (`train`) lub ewaluacyjnym (`eval`). W fazie trenowania model musi zostać przełączony w tryb treningowy poleceniem `model.train()`. Przy wykorzystaniu modelu do wnioskowania (np. przy wyznaczaniu dokładności klasyfikacji na zbiorze testowym) należy przełączyć model w tryb ewaluacji poleceniem `model.eval()`.\n",
        "Różnice między trybem `train` i `eval`: [link](https://stackoverflow.com/questions/51433378/what-does-model-train-do-in-pytorch).\n",
        "*   Podczas wyznaczania dokładności klasyfikacji na zbiorze testowym nie musimy budować grafu obliczeń - nie potrzebujemy wyznaczać gradientu funkcji straty. Wyłączymy budowania grafu obliczeń przy użyciu menadżera kontekstu\n",
        "`with torch.no_grad():` co zmniejszy wykorzystanie zasobów obliczeniowych.\n"
      ],
      "metadata": {
        "id": "6uleKAE6Iz1t"
      }
    },
    {
      "cell_type": "code",
      "source": [
        "def train_network(model: nn.Module, criterion: nn.Module, optimizer: torch.optim.Optimizer, eta: float=0.2, n_epochs: int = 200):\n",
        "    model.train()\n",
        "    for k in range(n_epochs):\n",
        "        optimizer.zero_grad()\n",
        "\n",
        "        logits = model(X_train_tensor)\n",
        "\n",
        "        loss = criterion(logits, y_train_tensor)\n",
        "\n",
        "        loss.backward()\n",
        "\n",
        "        optimizer.step()\n",
        "\n",
        "        train_accuracy = calc_accuracy(logits, y_train_tensor)\n",
        "\n",
        "        with torch.no_grad():\n",
        "            model.eval()\n",
        "            logits = model(X_test_tensor)\n",
        "            model.train()\n",
        "            test_accuracy = calc_accuracy(logits.squeeze(1), y_test_tensor)\n",
        "\n",
        "        if k % 20 == 0:\n",
        "            print(f\"Epoch: {k}   Wartość funkcji straty: {loss.item():.5f}   Dokładność (train): {train_accuracy:.4f}   Dokładność (test): {test_accuracy:.4f}\")\n"
      ],
      "metadata": {
        "id": "u1KNesePKEyr"
      },
      "execution_count": 46,
      "outputs": []
    },
    {
      "cell_type": "markdown",
      "source": [
        "Trening i ewaluacja klasyfikatora `linear_net` opartego o pojedynczą warstwę liniową (regresja logistyczna)."
      ],
      "metadata": {
        "id": "xIRvpu-6O052"
      }
    },
    {
      "cell_type": "code",
      "source": [
        "criterion = nn.CrossEntropyLoss()\n",
        "optimizer = torch.optim.Adam(linear_net.parameters(), lr=0.1)\n",
        "train_network(linear_net, criterion, optimizer)"
      ],
      "metadata": {
        "colab": {
          "base_uri": "https://localhost:8080/"
        },
        "id": "uDkzhKoGO2UG",
        "outputId": "69d98978-b3b9-44bf-ca09-1ecfb28f7277"
      },
      "execution_count": 47,
      "outputs": [
        {
          "output_type": "stream",
          "name": "stdout",
          "text": [
            "Epoch: 0   Wartość funkcji straty: 0.94303   Dokładność (train): 0.4913   Dokładność (test): 0.6150\n",
            "Epoch: 20   Wartość funkcji straty: 0.42148   Dokładność (train): 0.8237   Dokładność (test): 0.8100\n",
            "Epoch: 40   Wartość funkcji straty: 0.39878   Dokładność (train): 0.8237   Dokładność (test): 0.8400\n",
            "Epoch: 60   Wartość funkcji straty: 0.39645   Dokładność (train): 0.8275   Dokładność (test): 0.8250\n",
            "Epoch: 80   Wartość funkcji straty: 0.39637   Dokładność (train): 0.8275   Dokładność (test): 0.8300\n",
            "Epoch: 100   Wartość funkcji straty: 0.39635   Dokładność (train): 0.8287   Dokładność (test): 0.8300\n",
            "Epoch: 120   Wartość funkcji straty: 0.39634   Dokładność (train): 0.8263   Dokładność (test): 0.8300\n",
            "Epoch: 140   Wartość funkcji straty: 0.39634   Dokładność (train): 0.8275   Dokładność (test): 0.8300\n",
            "Epoch: 160   Wartość funkcji straty: 0.39634   Dokładność (train): 0.8275   Dokładność (test): 0.8300\n",
            "Epoch: 180   Wartość funkcji straty: 0.39634   Dokładność (train): 0.8275   Dokładność (test): 0.8300\n"
          ]
        }
      ]
    },
    {
      "cell_type": "markdown",
      "source": [
        "Trening i ewaluacja klasyfikatora opartego o perceptron wielowarstwowy `mlp_net`."
      ],
      "metadata": {
        "id": "gvH7bc0ZQGXV"
      }
    },
    {
      "cell_type": "code",
      "source": [
        "criterion = nn.CrossEntropyLoss()\n",
        "optimizer = torch.optim.Adam(mlp_net.parameters(), lr=0.1)\n",
        "train_network(mlp_net, criterion, optimizer)"
      ],
      "metadata": {
        "colab": {
          "base_uri": "https://localhost:8080/"
        },
        "id": "nKGpO1oLQIJO",
        "outputId": "60acb039-7e28-4392-d45a-28c597e07ff7"
      },
      "execution_count": 48,
      "outputs": [
        {
          "output_type": "stream",
          "name": "stdout",
          "text": [
            "Epoch: 0   Wartość funkcji straty: 0.69231   Dokładność (train): 0.5850   Dokładność (test): 0.7250\n",
            "Epoch: 20   Wartość funkcji straty: 0.25818   Dokładność (train): 0.8775   Dokładność (test): 0.8850\n",
            "Epoch: 40   Wartość funkcji straty: 0.24114   Dokładność (train): 0.8875   Dokładność (test): 0.9300\n",
            "Epoch: 60   Wartość funkcji straty: 0.23095   Dokładność (train): 0.8988   Dokładność (test): 0.9300\n",
            "Epoch: 80   Wartość funkcji straty: 0.19923   Dokładność (train): 0.9125   Dokładność (test): 0.9300\n",
            "Epoch: 100   Wartość funkcji straty: 0.21267   Dokładność (train): 0.9087   Dokładność (test): 0.9200\n",
            "Epoch: 120   Wartość funkcji straty: 0.20890   Dokładność (train): 0.9062   Dokładność (test): 0.9350\n",
            "Epoch: 140   Wartość funkcji straty: 0.23485   Dokładność (train): 0.8875   Dokładność (test): 0.9150\n",
            "Epoch: 160   Wartość funkcji straty: 0.20104   Dokładność (train): 0.9075   Dokładność (test): 0.9250\n",
            "Epoch: 180   Wartość funkcji straty: 0.20819   Dokładność (train): 0.9038   Dokładność (test): 0.9200\n"
          ]
        }
      ]
    },
    {
      "cell_type": "markdown",
      "source": [
        "Dla porównania sprawdzimy skuteczność klasyfikatora regresji logistycznej z biblioteki scikit-learn."
      ],
      "metadata": {
        "id": "RJufasUIQgjM"
      }
    },
    {
      "cell_type": "code",
      "source": [
        "from sklearn.metrics import accuracy_score\n",
        "from sklearn.linear_model import LogisticRegression\n",
        "\n",
        "model = LogisticRegression()\n",
        "model.fit(X_train, y_train)\n",
        "\n",
        "y_train_pred = model.predict(X_train)\n",
        "train_accuracy = accuracy_score(y_train, y_train_pred)\n",
        "\n",
        "y_test_pred = model.predict(x_test)\n",
        "test_accuracy = accuracy_score(y_test, y_test_pred)\n",
        "\n",
        "print(f\"Dokładność (train): {train_accuracy:.4f}\")\n",
        "print(f\"Dokładność (test): {test_accuracy:.4f}\")\n"
      ],
      "metadata": {
        "colab": {
          "base_uri": "https://localhost:8080/"
        },
        "id": "RY5wlr5pQiJn",
        "outputId": "39183546-b303-4064-b642-4339f5625891"
      },
      "execution_count": 51,
      "outputs": [
        {
          "output_type": "stream",
          "name": "stdout",
          "text": [
            "Dokładność (train): 0.8275\n",
            "Dokładność (test): 0.8300\n"
          ]
        }
      ]
    }
  ]
}