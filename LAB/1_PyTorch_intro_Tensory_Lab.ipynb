{
  "cells": [
    {
      "cell_type": "markdown",
      "metadata": {
        "id": "ZY88NuVprDxy"
      },
      "source": [
        "#PyTorch Intro - Tensory - Laboratorium\n",
        "\n",
        "**Tensor** w bibliotece PyTorch jest specjalizowaną strukturą danych podobną do wielowymiarowej tablicy `ndarray` w bibliotece numpy. Na tensorach można wykonywać typowe operacje algebry liniowej oraz operacje specyficzne dla głębokiego uczenia jak na przykład automatyczne różniczkowanie (autograd).\n",
        "Tensory wykorzystujemy do przechowywania przetwarzanych danych oraz parametrów (wag) modeli. Biblioteka PyTorch pozwala na efektywne przetwarzanie tensorów na CPU lub GPU."
      ]
    },
    {
      "cell_type": "markdown",
      "metadata": {
        "id": "wQ6auP2WCnLW"
      },
      "source": [
        "##Przygotowanie środowiska\n",
        "Upewnij się, że notatnik jest uruchomiony na maszynie z GPU. Jeśli GPU nie jest dostępne zmień typ maszyny (Runtime | Change runtime type) i wybierz T4 GPU."
      ]
    },
    {
      "cell_type": "code",
      "execution_count": 4,
      "metadata": {
        "id": "FfwBYOmmnw0b",
        "colab": {
          "base_uri": "https://localhost:8080/"
        },
        "outputId": "d779d92a-efa6-4a9a-ba05-41e2188a4f93"
      },
      "outputs": [
        {
          "output_type": "stream",
          "name": "stdout",
          "text": [
            "Sat Mar 15 13:37:02 2025       \n",
            "+-----------------------------------------------------------------------------------------+\n",
            "| NVIDIA-SMI 550.54.15              Driver Version: 550.54.15      CUDA Version: 12.4     |\n",
            "|-----------------------------------------+------------------------+----------------------+\n",
            "| GPU  Name                 Persistence-M | Bus-Id          Disp.A | Volatile Uncorr. ECC |\n",
            "| Fan  Temp   Perf          Pwr:Usage/Cap |           Memory-Usage | GPU-Util  Compute M. |\n",
            "|                                         |                        |               MIG M. |\n",
            "|=========================================+========================+======================|\n",
            "|   0  Tesla T4                       Off |   00000000:00:04.0 Off |                    0 |\n",
            "| N/A   45C    P8             11W /   70W |       2MiB /  15360MiB |      0%      Default |\n",
            "|                                         |                        |                  N/A |\n",
            "+-----------------------------------------+------------------------+----------------------+\n",
            "                                                                                         \n",
            "+-----------------------------------------------------------------------------------------+\n",
            "| Processes:                                                                              |\n",
            "|  GPU   GI   CI        PID   Type   Process name                              GPU Memory |\n",
            "|        ID   ID                                                               Usage      |\n",
            "|=========================================================================================|\n",
            "|  No running processes found                                                             |\n",
            "+-----------------------------------------------------------------------------------------+\n"
          ]
        }
      ],
      "source": [
        "!nvidia-smi"
      ]
    },
    {
      "cell_type": "markdown",
      "metadata": {
        "id": "n1G8i4wTrfq6"
      },
      "source": [
        "Biblioteka PyTorch (`torch`) jest domyślnie zainstalowana w środowisku COLAB."
      ]
    },
    {
      "cell_type": "code",
      "execution_count": 2,
      "metadata": {
        "id": "FDGaiuGLrapP",
        "colab": {
          "base_uri": "https://localhost:8080/"
        },
        "outputId": "f9c35adf-fbb8-493b-b45e-5c7a7af68172"
      },
      "outputs": [
        {
          "output_type": "stream",
          "name": "stdout",
          "text": [
            "Wersja biblioteki PyTorch: 2.6.0+cu124\n"
          ]
        }
      ],
      "source": [
        "import torch\n",
        "import numpy as np\n",
        "\n",
        "print(f\"Wersja biblioteki PyTorch: {torch.__version__}\")"
      ]
    },
    {
      "cell_type": "markdown",
      "metadata": {
        "id": "EJ6c3h4nryQJ"
      },
      "source": [
        "Sprawdzenie dostępnego urządzenia GPU."
      ]
    },
    {
      "cell_type": "code",
      "execution_count": 3,
      "metadata": {
        "id": "VGyMG3_2rxIC",
        "colab": {
          "base_uri": "https://localhost:8080/"
        },
        "outputId": "aa782a8f-0063-4480-8275-a38d634512f5"
      },
      "outputs": [
        {
          "output_type": "stream",
          "name": "stdout",
          "text": [
            "Dostępność GPU: True\n",
            "Typ GPU: Tesla T4\n"
          ]
        }
      ],
      "source": [
        "print(f\"Dostępność GPU: {torch.cuda.is_available()}\")\n",
        "print(f\"Typ GPU: {torch.cuda.get_device_name(0)}\")"
      ]
    },
    {
      "cell_type": "markdown",
      "source": [
        "##Zadania do wykonania"
      ],
      "metadata": {
        "id": "a0eTA-dNdwEL"
      }
    },
    {
      "cell_type": "markdown",
      "source": [
        "###Zadanie 1: Tworzenie tensorów\n",
        "Wygeneruj tensor o pokazanej poniżej zawartości nie używając pętli. Wskazówka: Wykorzystaj funkcję `torch.full` i mechanizm indeksowania tensorów.\n",
        "\n",
        "```\n",
        " 1 2 1 1 1 1 2 1 1 1 1 2 1\n",
        " 1 2 1 1 1 1 2 1 1 1 1 2 1\n",
        " 2 2 2 2 2 2 2 2 2 2 2 2 2\n",
        " 1 2 1 1 1 1 2 1 1 1 1 2 1\n",
        " 1 2 1 3 3 1 2 1 3 3 1 2 1\n",
        " 1 2 1 3 3 1 2 1 3 3 1 2 1\n",
        " 1 2 1 1 1 1 2 1 1 1 1 2 1\n",
        " 2 2 2 2 2 2 2 2 2 2 2 2 2\n",
        " 1 2 1 1 1 1 2 1 1 1 1 2 1\n",
        " 1 2 1 3 3 1 2 1 3 3 1 2 1\n",
        " 1 2 1 3 3 1 2 1 3 3 1 2 1\n",
        " 1 2 1 1 1 1 2 1 1 1 1 2 1\n",
        " 2 2 2 2 2 2 2 2 2 2 2 2 2\n",
        " 1 2 1 1 1 1 2 1 1 1 1 2 1\n",
        "```\n",
        "\n"
      ],
      "metadata": {
        "id": "xRZ4mKnwqa0O"
      }
    },
    {
      "cell_type": "code",
      "source": [
        "import torch\n",
        "\n",
        "# Tworzenie bazowego tensora wypełnionego jedynkami\n",
        "tensor = torch.full((14, 13), 1)\n",
        "\n",
        "# Ustawienie wartości 2 w odpowiednich miejscach\n",
        "tensor[:, 1] = 2\n",
        "tensor[:, -2] = 2\n",
        "tensor[2, :] = 2\n",
        "tensor[7, :] = 2\n",
        "tensor[12, :] = 2\n",
        "\n",
        "# Ustawienie wartości 3 w odpowiednich miejscach\n",
        "tensor[4:6, 3:5] = 3\n",
        "tensor[4:6, 8:10] = 3\n",
        "tensor[9:11, 3:5] = 3\n",
        "tensor[9:11, 8:10] = 3\n",
        "\n",
        "print(tensor)"
      ],
      "metadata": {
        "colab": {
          "base_uri": "https://localhost:8080/"
        },
        "id": "f_2PmhHFAU8r",
        "outputId": "3af33a38-d518-4d88-bc1d-63d47ef0efdc"
      },
      "execution_count": 10,
      "outputs": [
        {
          "output_type": "stream",
          "name": "stdout",
          "text": [
            "tensor([[1, 2, 1, 1, 1, 1, 1, 1, 1, 1, 1, 2, 1],\n",
            "        [1, 2, 1, 1, 1, 1, 1, 1, 1, 1, 1, 2, 1],\n",
            "        [2, 2, 2, 2, 2, 2, 2, 2, 2, 2, 2, 2, 2],\n",
            "        [1, 2, 1, 1, 1, 1, 1, 1, 1, 1, 1, 2, 1],\n",
            "        [1, 2, 1, 3, 3, 1, 1, 1, 3, 3, 1, 2, 1],\n",
            "        [1, 2, 1, 3, 3, 1, 1, 1, 3, 3, 1, 2, 1],\n",
            "        [1, 2, 1, 1, 1, 1, 1, 1, 1, 1, 1, 2, 1],\n",
            "        [2, 2, 2, 2, 2, 2, 2, 2, 2, 2, 2, 2, 2],\n",
            "        [1, 2, 1, 1, 1, 1, 1, 1, 1, 1, 1, 2, 1],\n",
            "        [1, 2, 1, 3, 3, 1, 1, 1, 3, 3, 1, 2, 1],\n",
            "        [1, 2, 1, 3, 3, 1, 1, 1, 3, 3, 1, 2, 1],\n",
            "        [1, 2, 1, 1, 1, 1, 1, 1, 1, 1, 1, 2, 1],\n",
            "        [2, 2, 2, 2, 2, 2, 2, 2, 2, 2, 2, 2, 2],\n",
            "        [1, 2, 1, 1, 1, 1, 1, 1, 1, 1, 1, 2, 1]])\n"
          ]
        }
      ]
    },
    {
      "cell_type": "markdown",
      "source": [
        "###Zadanie 2: Wartości własne macierzy\n",
        "Utwórz dwuwymiarowy tensor $M$ o rozmiarach $20 \\times 20$ zainicjalizowany losowymi wartościami o standardowym rozkładzie normalnym.\n",
        "Następnie wyznacz wartości własne macierzy $\n",
        "X = M D M^{-1} \\, ,\n",
        "$\n",
        "gdzie\n",
        "$$\n",
        "\\begin{align}\n",
        "D =\n",
        "\\begin{bmatrix}\n",
        "1 & 0 & 0 & \\ldots & 0 & 0 \\\\\n",
        "0 & 2 & 0 & \\ldots  & 0 & 0 \\\\\n",
        "\\vdots &  & \\ddots &  &  & \\vdots \\\\\n",
        "\\vdots &  &  &  & 19 & 0 \\\\\n",
        "0 & \\ldots & \\ldots & \\ldots & 0 & 20\n",
        "\\end{bmatrix}\n",
        "\\end{align} \\, .\n",
        "$$\n",
        "Nie używaj pętli. Macierz $D$ wygeneruj korzystając z funkcji `torch.diag`. Do wyznaczenia wektorów własnych wykorzystaj funkcję `torch.linalg.eig`."
      ],
      "metadata": {
        "id": "HLvSfZmesKOH"
      }
    },
    {
      "cell_type": "code",
      "source": [
        "print(torch.rand())\n"
      ],
      "metadata": {
        "colab": {
          "base_uri": "https://localhost:8080/"
        },
        "id": "iY6RXzi7IsGl",
        "outputId": "5dd76785-53bf-4073-ecb4-b42fbe40eb40"
      },
      "execution_count": 26,
      "outputs": [
        {
          "output_type": "stream",
          "name": "stdout",
          "text": [
            "tensor([[0.0981, 0.3837],\n",
            "        [0.0501, 0.9177],\n",
            "        [0.4756, 0.0039],\n",
            "        [0.0596, 0.8749],\n",
            "        [0.2042, 0.2197]])\n"
          ]
        }
      ]
    },
    {
      "cell_type": "code",
      "source": [
        "tensor = torch.rand(5,2)\n",
        "print(tensor)\n",
        "print(torch.diag(tensor, -1))"
      ],
      "metadata": {
        "colab": {
          "base_uri": "https://localhost:8080/"
        },
        "id": "GG2XTlyUIfdN",
        "outputId": "c5500216-9f9e-443d-ba52-a9b0471820c5"
      },
      "execution_count": 30,
      "outputs": [
        {
          "output_type": "stream",
          "name": "stdout",
          "text": [
            "tensor([[0.4061, 0.2196],\n",
            "        [0.6027, 0.4996],\n",
            "        [0.0986, 0.5396],\n",
            "        [0.5385, 0.0791],\n",
            "        [0.7533, 0.6072]])\n",
            "tensor([0.6027, 0.5396])\n"
          ]
        }
      ]
    },
    {
      "cell_type": "code",
      "source": [
        "# definicja D\n",
        "D = torch.diag(torch.tensor([x+1 for x in range (20)]))\n",
        "\n",
        "##lub\n",
        "\n",
        "D = torch.diag(torch.arange(1, 21))\n",
        "print(D)"
      ],
      "metadata": {
        "id": "xFiduJkCJny_",
        "colab": {
          "base_uri": "https://localhost:8080/"
        },
        "outputId": "33b71697-c1b0-4067-f4da-9e7dd6a6d926"
      },
      "execution_count": 56,
      "outputs": [
        {
          "output_type": "stream",
          "name": "stdout",
          "text": [
            "tensor([[ 1,  0,  0,  0,  0,  0,  0,  0,  0,  0,  0,  0,  0,  0,  0,  0,  0,  0,\n",
            "          0,  0],\n",
            "        [ 0,  2,  0,  0,  0,  0,  0,  0,  0,  0,  0,  0,  0,  0,  0,  0,  0,  0,\n",
            "          0,  0],\n",
            "        [ 0,  0,  3,  0,  0,  0,  0,  0,  0,  0,  0,  0,  0,  0,  0,  0,  0,  0,\n",
            "          0,  0],\n",
            "        [ 0,  0,  0,  4,  0,  0,  0,  0,  0,  0,  0,  0,  0,  0,  0,  0,  0,  0,\n",
            "          0,  0],\n",
            "        [ 0,  0,  0,  0,  5,  0,  0,  0,  0,  0,  0,  0,  0,  0,  0,  0,  0,  0,\n",
            "          0,  0],\n",
            "        [ 0,  0,  0,  0,  0,  6,  0,  0,  0,  0,  0,  0,  0,  0,  0,  0,  0,  0,\n",
            "          0,  0],\n",
            "        [ 0,  0,  0,  0,  0,  0,  7,  0,  0,  0,  0,  0,  0,  0,  0,  0,  0,  0,\n",
            "          0,  0],\n",
            "        [ 0,  0,  0,  0,  0,  0,  0,  8,  0,  0,  0,  0,  0,  0,  0,  0,  0,  0,\n",
            "          0,  0],\n",
            "        [ 0,  0,  0,  0,  0,  0,  0,  0,  9,  0,  0,  0,  0,  0,  0,  0,  0,  0,\n",
            "          0,  0],\n",
            "        [ 0,  0,  0,  0,  0,  0,  0,  0,  0, 10,  0,  0,  0,  0,  0,  0,  0,  0,\n",
            "          0,  0],\n",
            "        [ 0,  0,  0,  0,  0,  0,  0,  0,  0,  0, 11,  0,  0,  0,  0,  0,  0,  0,\n",
            "          0,  0],\n",
            "        [ 0,  0,  0,  0,  0,  0,  0,  0,  0,  0,  0, 12,  0,  0,  0,  0,  0,  0,\n",
            "          0,  0],\n",
            "        [ 0,  0,  0,  0,  0,  0,  0,  0,  0,  0,  0,  0, 13,  0,  0,  0,  0,  0,\n",
            "          0,  0],\n",
            "        [ 0,  0,  0,  0,  0,  0,  0,  0,  0,  0,  0,  0,  0, 14,  0,  0,  0,  0,\n",
            "          0,  0],\n",
            "        [ 0,  0,  0,  0,  0,  0,  0,  0,  0,  0,  0,  0,  0,  0, 15,  0,  0,  0,\n",
            "          0,  0],\n",
            "        [ 0,  0,  0,  0,  0,  0,  0,  0,  0,  0,  0,  0,  0,  0,  0, 16,  0,  0,\n",
            "          0,  0],\n",
            "        [ 0,  0,  0,  0,  0,  0,  0,  0,  0,  0,  0,  0,  0,  0,  0,  0, 17,  0,\n",
            "          0,  0],\n",
            "        [ 0,  0,  0,  0,  0,  0,  0,  0,  0,  0,  0,  0,  0,  0,  0,  0,  0, 18,\n",
            "          0,  0],\n",
            "        [ 0,  0,  0,  0,  0,  0,  0,  0,  0,  0,  0,  0,  0,  0,  0,  0,  0,  0,\n",
            "         19,  0],\n",
            "        [ 0,  0,  0,  0,  0,  0,  0,  0,  0,  0,  0,  0,  0,  0,  0,  0,  0,  0,\n",
            "          0, 20]])\n"
          ]
        }
      ]
    },
    {
      "cell_type": "code",
      "source": [
        "M = torch.rand(20, 20)"
      ],
      "metadata": {
        "id": "RAXIGGBFOfXl"
      },
      "execution_count": 68,
      "outputs": []
    },
    {
      "cell_type": "code",
      "source": [
        "# Sprawdzenie czy .inverse i .linalg.inv dają to samo\n",
        "M_inv = torch.inverse(M)\n",
        "#print(M_inv)\n",
        "\n",
        "M_inv2 = torch.linalg.inv(M)\n",
        "#print(M_inv2)\n",
        "\n",
        "if torch.allclose(M_inv, M_inv2):\n",
        "  print(\"tak\")\n",
        "else:\n",
        "  print(\"nie\")\n"
      ],
      "metadata": {
        "colab": {
          "base_uri": "https://localhost:8080/"
        },
        "id": "8RbitnJpL7hY",
        "outputId": "04496901-fd21-428e-858d-96d85c901b1b"
      },
      "execution_count": 74,
      "outputs": [
        {
          "output_type": "stream",
          "name": "stdout",
          "text": [
            "tak\n"
          ]
        }
      ]
    },
    {
      "cell_type": "code",
      "source": [
        "X = M @ D.float() @ M_inv2\n",
        "print(X)"
      ],
      "metadata": {
        "colab": {
          "base_uri": "https://localhost:8080/"
        },
        "id": "WZXjtddGN2DV",
        "outputId": "866b97db-4560-449a-ed43-3b40ec424416"
      },
      "execution_count": 78,
      "outputs": [
        {
          "output_type": "stream",
          "name": "stdout",
          "text": [
            "tensor([[  2.6483, -31.1149,  33.1292, -10.8872, -32.0389,  10.0107, -35.2101,\n",
            "          28.1790,  32.4444, -25.2647,  58.6337,  21.3455,  42.3133, -19.8310,\n",
            "          31.6241,  26.5450, -17.1989, -59.0751,  12.9874,  -5.8052],\n",
            "        [ -4.3882,  20.1883, -20.8058,  -1.0949,   8.1236,   7.1926,   7.4507,\n",
            "          -4.2289,  -5.3745,   2.0151,  -5.3858, -12.5389,  -7.7548,  -1.5660,\n",
            "          -0.3290,  -5.5834,  16.2700,  10.8179,  -3.7770,  -4.7292],\n",
            "        [ -9.3875,  13.1897, -14.1586,   7.7187,  19.7248,   1.7286,  15.6425,\n",
            "         -12.6782, -14.0980,  -3.9800, -18.2086, -15.4445, -13.7975,  10.1553,\n",
            "          -3.2844,  -4.7639,   9.8360,  30.0157, -11.0899,  -9.0767],\n",
            "        [ -3.0752,  33.5911, -43.2840,  22.2268,  29.0706,   1.0037,  32.4007,\n",
            "         -21.0255, -32.5937,  22.7757, -46.5065, -33.4143, -31.4887,  12.0455,\n",
            "         -20.2010, -24.5673,  30.4073,  47.7017, -14.6803,  -3.4775],\n",
            "        [ -6.8197, -22.4816,  23.3999, -18.6618, -24.4571,  16.8338, -31.6047,\n",
            "          23.3714,  29.0032, -11.4180,  50.9367,  12.9632,  38.7347, -26.4531,\n",
            "          34.8007,  23.1928,  -0.6813, -59.6722,  13.6491,  -5.3686],\n",
            "        [ -9.8466, -13.8782,   4.1926,  -5.0284,  -8.6730,  26.3091, -18.3262,\n",
            "          12.4908,  12.7611, -20.0412,  33.9796,   5.1236,  20.1434,  -9.0264,\n",
            "          24.9260,  16.3203,  -2.9839, -29.5781,   5.1561, -12.9236],\n",
            "        [  1.9745,  19.5324, -27.0867,  -1.3519,  12.5859,   0.1758,  24.2842,\n",
            "         -10.2807, -14.9864,  11.3074, -21.0869, -16.3580, -14.6522,   3.2764,\n",
            "         -10.8738,  -9.2652,  22.8164,  20.8804,  -6.1742,   3.8669],\n",
            "        [ -5.0865, -11.3899,   6.4618,  -7.0288,  -7.4665,  10.6046, -15.6939,\n",
            "          19.4364,  16.6085, -18.6279,  26.8953,   9.2724,  20.7605, -11.9400,\n",
            "          14.2503,  17.7291,  -4.4342, -24.7143,   2.0428,  -6.3187],\n",
            "        [ -2.4665,  17.4283, -23.9825,  -0.7454,   5.8961,   6.2330,   9.0372,\n",
            "          -3.0801,  -2.6536,  16.0645, -14.0613, -18.3839,  -9.0979,  -4.1003,\n",
            "          -3.1688, -10.1792,  26.9415,   6.5628,  -2.4224,   0.2373],\n",
            "        [ -3.7362, -11.7470,  10.5945,  -8.9026, -17.4728,  16.7716, -16.5504,\n",
            "           9.8286,  13.3886,   0.2645,  31.6687,   3.8065,  22.0303, -17.3827,\n",
            "          23.6759,  14.2520,   0.9647, -36.5073,   9.6984,  -6.6787],\n",
            "        [  1.8091,   6.2523, -14.7396,   1.9493,   8.3243,   9.2964,   6.8803,\n",
            "         -10.5777,  -6.2773,  -9.5527,  11.7545,  -8.1906,  -5.6313,  -0.6845,\n",
            "           3.1708,   0.3059,   5.0701,  10.1215,  -2.9461,  -3.9116],\n",
            "        [ -8.5701,  17.0814, -25.3935,   7.8164,  24.2700,   6.0761,  21.0598,\n",
            "         -17.5087, -19.7889,  -3.6209, -26.7192, -12.0623, -20.2084,  13.0029,\n",
            "          -6.4676,  -7.9112,   9.7691,  40.0218, -10.3269, -11.1751],\n",
            "        [  0.7821, -26.0550,  29.0347, -19.4931, -40.5529,  15.0111, -35.8423,\n",
            "          28.6040,  29.4406,  -8.6579,  55.6973,  16.8071,  47.3800, -24.8627,\n",
            "          33.0822,  20.9145,  -3.1937, -67.3905,  19.6068,  -1.6641],\n",
            "        [ -4.0981,  -2.8974,  -0.3792,  -6.1779, -14.3795,  11.4743,  -8.4739,\n",
            "           8.5301,   2.0132,   0.7020,  18.2950,  -5.2540,   9.7208,   2.3858,\n",
            "          17.6743,   2.0300,  12.5204, -23.5977,   7.5789,  -3.9745],\n",
            "        [ -6.2059, -20.9413,  21.5929, -17.6843, -27.8199,  10.8304, -28.0853,\n",
            "          19.9651,  27.0004, -12.3880,  44.2318,  12.9408,  30.7245, -19.8245,\n",
            "          37.2939,  17.9053,  -0.7671, -48.4945,  13.0227,  -1.9045],\n",
            "        [ -2.2000,  21.5986, -29.5753,   4.6342,  24.5667,   0.5090,  24.3498,\n",
            "         -19.7546, -18.0261,   7.9934, -31.7172, -19.5231, -21.5001,   7.1200,\n",
            "         -15.7837,  -3.5601,  17.2212,  40.1260, -12.4204,  -1.9716],\n",
            "        [ -7.3767,  32.4765, -46.0242,  16.1048,  42.2196,  -0.6737,  38.2502,\n",
            "         -30.6321, -34.4735,   2.8848, -50.9403, -32.5733, -37.8478,  22.8654,\n",
            "         -21.7393, -19.3943,  29.0268,  70.9089, -21.5332,  -8.1861],\n",
            "        [ -5.8572, -10.4900,   1.8663,  -6.8415,  -4.4783,  16.6367, -11.6369,\n",
            "           2.4460,  13.1218, -24.9706,  28.4166,   2.6940,  14.1351,  -9.8173,\n",
            "          20.0980,  16.1698,  -3.8581,  -5.4929,   3.6925, -12.0775],\n",
            "        [ -1.0877,   0.0955,  -0.2246, -12.3612, -14.3188,   9.8299,  -4.2725,\n",
            "           3.7879,   6.9411,   9.4264,   8.1323,  -5.7782,   6.2938, -11.1646,\n",
            "          10.5402,   0.5300,  12.5150, -13.9712,  16.9133,  -3.9864],\n",
            "        [ -0.7021,  -0.8025,  -7.1611,  -9.8506,  -8.4018,   4.5953,  -7.6641,\n",
            "           5.6610,   4.7115,   3.1438,  13.9968,  -1.4326,   6.9143,  -7.9627,\n",
            "          11.0716,   0.8917,  14.6343, -17.0058,   4.3671,  12.2726]])\n"
          ]
        }
      ]
    },
    {
      "cell_type": "code",
      "source": [
        "# wartości własne macierzy\n",
        "\n",
        "w, v = torch.linalg.eig(X)\n",
        "print(\"Wartości własne macierzy X:\")\n",
        "print(w)"
      ],
      "metadata": {
        "colab": {
          "base_uri": "https://localhost:8080/"
        },
        "id": "-AYFNitAQ0OQ",
        "outputId": "95bb1874-dfbc-462b-aba1-a44b425d4916"
      },
      "execution_count": 81,
      "outputs": [
        {
          "output_type": "stream",
          "name": "stdout",
          "text": [
            "Wartości własne macierzy X:\n",
            "tensor([20.0001+0.j,  1.0000+0.j, 19.0000+0.j, 18.0001+0.j,  2.0001+0.j,  3.0000+0.j,\n",
            "         3.9999+0.j, 16.9999+0.j,  4.9999+0.j, 15.9999+0.j, 14.9999+0.j, 13.9998+0.j,\n",
            "         6.0000+0.j, 13.0000+0.j,  7.0001+0.j, 12.0000+0.j, 11.0000+0.j, 10.0003+0.j,\n",
            "         9.0000+0.j,  7.9999+0.j])\n"
          ]
        }
      ]
    },
    {
      "cell_type": "markdown",
      "source": [
        "###Zadanie 3: Porównanie czasów wykonywania operacji na CPU i GPU\n",
        "Napisz kod który wyświetli wykres liniowy przedstawiający zależność czasu mnożenia dwóch macierzy kwadratowych $n \\times n$ od ich rozmiaru $n$ dla działań wykonanych na CPU i na GPU.\n",
        "Mierząc czas wykonania operacji na GPU pamiętaj aby przed rozpocząciem i przed zakończeniem pomiaru czasu wywołać polecenie `torch.cuda.synchronize()` które czeka na zakończenie obliczeń na GPU.\n",
        "\n",
        "\n",
        "```\n",
        "torch.cuda.synchronize()\n",
        "start_time = time.time()\n",
        "...\n",
        "...\n",
        "torch.cuda.synchronize()\n",
        "end_time = time.time()\n",
        "```\n",
        "\n"
      ],
      "metadata": {
        "id": "1ZiCYz7upKol"
      }
    },
    {
      "cell_type": "code",
      "source": [
        "# GPU\n",
        "import time\n",
        "import matplotlib.pyplot as plt\n",
        "import torch\n",
        "\n",
        "time_list = []\n",
        "n = [x for x in range(2, 11)]\n",
        "\n",
        "for _ in n:\n",
        "\n",
        "    start_time = time.time()\n",
        "    A = torch.rand(_, _)\n",
        "    B = torch.rand(_, _)\n",
        "    C = torch.matmul(A, B)\n",
        "    end_time = time.time()\n",
        "\n",
        "    time_list.append(end_time - start_time)\n",
        "\n",
        "time_list_ms = [x * 1000 for x in time_list]\n",
        "plt.plot(n, time_list_ms, 'go--')\n",
        "\n",
        "plt.xlabel('Rozmiar macierzy')\n",
        "plt.ylabel('Czas wykonania (ms)')\n",
        "plt.title('Zależność czasu wykonania od rozmiaru macierzy')\n",
        "plt.legend()\n",
        "plt.grid()\n",
        "plt.show()\n",
        "\n",
        "\n",
        "for elem in n:\n",
        "    print(f'rozmiar macierzy: {elem} x {elem}')\n",
        "    print(f'czas wykonania: {time_list_ms[n.index(elem)]} ms')\n",
        "    print()"
      ],
      "metadata": {
        "id": "CladxlEPwW6_",
        "colab": {
          "base_uri": "https://localhost:8080/",
          "height": 995
        },
        "outputId": "b790088f-1d51-42ee-b47c-5154428da632"
      },
      "execution_count": 2,
      "outputs": [
        {
          "output_type": "stream",
          "name": "stderr",
          "text": [
            "<ipython-input-2-6057ed1d5b4a>:25: UserWarning: No artists with labels found to put in legend.  Note that artists whose label start with an underscore are ignored when legend() is called with no argument.\n",
            "  plt.legend()\n"
          ]
        },
        {
          "output_type": "display_data",
          "data": {
            "text/plain": [
              "<Figure size 640x480 with 1 Axes>"
            ],
            "image/png": "[encoded data removed]"
          },
          "metadata": {}
        },
        {
          "output_type": "stream",
          "name": "stdout",
          "text": [
            "rozmiar macierzy: 2 x 2\n",
            "czas wykonania: 0.1595020294189453 ms\n",
            "\n",
            "rozmiar macierzy: 3 x 3\n",
            "czas wykonania: 0.03337860107421875 ms\n",
            "\n",
            "rozmiar macierzy: 4 x 4\n",
            "czas wykonania: 0.018596649169921875 ms\n",
            "\n",
            "rozmiar macierzy: 5 x 5\n",
            "czas wykonania: 0.018835067749023438 ms\n",
            "\n",
            "rozmiar macierzy: 6 x 6\n",
            "czas wykonania: 0.017642974853515625 ms\n",
            "\n",
            "rozmiar macierzy: 7 x 7\n",
            "czas wykonania: 0.017642974853515625 ms\n",
            "\n",
            "rozmiar macierzy: 8 x 8\n",
            "czas wykonania: 0.017881393432617188 ms\n",
            "\n",
            "rozmiar macierzy: 9 x 9\n",
            "czas wykonania: 0.023603439331054688 ms\n",
            "\n",
            "rozmiar macierzy: 10 x 10\n",
            "czas wykonania: 0.020265579223632812 ms\n",
            "\n"
          ]
        }
      ]
    },
    {
      "cell_type": "code",
      "source": [
        "# CPU\n",
        "import time\n",
        "import matplotlib.pyplot as plt\n",
        "import torch\n",
        "\n",
        "time_list = []\n",
        "n = [x for x in range(2, 11)]\n",
        "\n",
        "for _ in n:\n",
        "\n",
        "    start_time = time.time()\n",
        "    A = torch.rand(_, _)\n",
        "    B = torch.rand(_, _)\n",
        "    C = torch.matmul(A, B)\n",
        "    end_time = time.time()\n",
        "\n",
        "    time_list.append(end_time - start_time)\n",
        "\n",
        "time_list_ms = [x * 1000 for x in time_list]\n",
        "plt.plot(n, time_list_ms, 'go--')\n",
        "\n",
        "plt.xlabel('Rozmiar macierzy')\n",
        "plt.ylabel('Czas wykonania (ms)')\n",
        "plt.title('Zależność czasu wykonania od rozmiaru macierzy')\n",
        "plt.legend()\n",
        "plt.grid()\n",
        "plt.show()\n",
        "\n",
        "\n",
        "for elem in n:\n",
        "    print(f'rozmiar macierzy: {elem} x {elem}')\n",
        "    print(f'czas wykonania: {time_list_ms[n.index(elem)]} ms')\n",
        "    print()"
      ],
      "metadata": {
        "colab": {
          "base_uri": "https://localhost:8080/",
          "height": 995
        },
        "id": "tXmwgZD-VB50",
        "outputId": "8afff7a8-d409-44d6-cd51-8844d8c48215"
      },
      "execution_count": 14,
      "outputs": [
        {
          "output_type": "stream",
          "name": "stderr",
          "text": [
            "<ipython-input-14-defb0d851f93>:25: UserWarning: No artists with labels found to put in legend.  Note that artists whose label start with an underscore are ignored when legend() is called with no argument.\n",
            "  plt.legend()\n"
          ]
        },
        {
          "output_type": "display_data",
          "data": {
            "text/plain": [
              "<Figure size 640x480 with 1 Axes>"
            ],
            "image/png": "[encoded data removed]"
          },
          "metadata": {}
        },
        {
          "output_type": "stream",
          "name": "stdout",
          "text": [
            "rozmiar macierzy: 2 x 2\n",
            "czas wykonania: 0.1990795135498047 ms\n",
            "\n",
            "rozmiar macierzy: 3 x 3\n",
            "czas wykonania: 0.03743171691894531 ms\n",
            "\n",
            "rozmiar macierzy: 4 x 4\n",
            "czas wykonania: 0.022411346435546875 ms\n",
            "\n",
            "rozmiar macierzy: 5 x 5\n",
            "czas wykonania: 0.0209808349609375 ms\n",
            "\n",
            "rozmiar macierzy: 6 x 6\n",
            "czas wykonania: 0.021457672119140625 ms\n",
            "\n",
            "rozmiar macierzy: 7 x 7\n",
            "czas wykonania: 0.022649765014648438 ms\n",
            "\n",
            "rozmiar macierzy: 8 x 8\n",
            "czas wykonania: 0.02384185791015625 ms\n",
            "\n",
            "rozmiar macierzy: 9 x 9\n",
            "czas wykonania: 0.025987625122070312 ms\n",
            "\n",
            "rozmiar macierzy: 10 x 10\n",
            "czas wykonania: 0.022172927856445312 ms\n",
            "\n"
          ]
        }
      ]
    },
    {
      "cell_type": "markdown",
      "source": [
        "###Zadanie 4 (opcjonalne): Konwencja sumacyjna Einsteina\n",
        "Zapisz podane operacje korzystając z konwencji sumacyjnej Einsteina."
      ],
      "metadata": {
        "id": "oFKICGrJd1XM"
      }
    },
    {
      "cell_type": "markdown",
      "source": [
        "Wyznacz ślad (suma elementów na przekątnej) macierzy `M`."
      ],
      "metadata": {
        "id": "_D4371MId7-H"
      }
    },
    {
      "cell_type": "code",
      "source": [
        "M = torch.tensor([[1, 2, 3],\n",
        "                  [4, 5, 6],\n",
        "                  [7, 8, 9]])"
      ],
      "metadata": {
        "id": "Eewqv3gtd8FX"
      },
      "execution_count": 3,
      "outputs": []
    },
    {
      "cell_type": "code",
      "source": [
        "slad = torch.einsum('ii->', M)\n",
        "print(slad)"
      ],
      "metadata": {
        "id": "AJ7QIfKWKNts",
        "colab": {
          "base_uri": "https://localhost:8080/"
        },
        "outputId": "fd9f78ad-8b7b-4818-c3e9-251b881b169f"
      },
      "execution_count": 6,
      "outputs": [
        {
          "output_type": "stream",
          "name": "stdout",
          "text": [
            "tensor(15)\n"
          ]
        }
      ]
    },
    {
      "cell_type": "code",
      "source": [
        "#Oczekiwany wynik: 15"
      ],
      "metadata": {
        "id": "CEfDengsfomr"
      },
      "execution_count": null,
      "outputs": []
    },
    {
      "cell_type": "markdown",
      "source": [
        "Wyznacz wartość formy biliniowej\n",
        "$z = \\mathbf{x}^T \\mathbf{A} \\mathbf{y}$"
      ],
      "metadata": {
        "id": "9fyhGSPne3Ae"
      }
    },
    {
      "cell_type": "code",
      "source": [
        "x = torch.tensor([1, 2])\n",
        "A = torch.tensor([[3, 4], [5, 6]])\n",
        "y = torch.tensor([7, 8])"
      ],
      "metadata": {
        "id": "CX02eLR7e3IX"
      },
      "execution_count": 8,
      "outputs": []
    },
    {
      "cell_type": "code",
      "source": [
        "z = torch.einsum('i,ij,j->', x, A, y)\n",
        "print(z)"
      ],
      "metadata": {
        "id": "nqqlP0gyKORl",
        "colab": {
          "base_uri": "https://localhost:8080/"
        },
        "outputId": "bc67e270-482f-4df0-d732-4cf73d86214f"
      },
      "execution_count": 9,
      "outputs": [
        {
          "output_type": "stream",
          "name": "stdout",
          "text": [
            "tensor(219)\n"
          ]
        }
      ]
    },
    {
      "cell_type": "code",
      "source": [
        "#Oczekiwany wynik 219"
      ],
      "metadata": {
        "id": "JNN1hde6fssT"
      },
      "execution_count": null,
      "outputs": []
    },
    {
      "cell_type": "markdown",
      "source": [
        "Wyznacz ważoną sumę wektorów wierszowych macierzy `V` z wagami w wektorze `w`.\n",
        "$$\\mathbf{z}_j = \\sum_i \\mathbf{w}_i \\mathbf{V}_{ij}$$\n",
        "\n",
        "\n"
      ],
      "metadata": {
        "id": "U7Ewnpqqg1fU"
      }
    },
    {
      "cell_type": "code",
      "source": [
        "w = torch.tensor([0.2, 0.3, 0.5])\n",
        "V = torch.tensor([[1, 2], [3, 4], [5, 6]], dtype=torch.float32)  # Shape: [3, 2]"
      ],
      "metadata": {
        "id": "QJmoyrWRg1nX"
      },
      "execution_count": 10,
      "outputs": []
    },
    {
      "cell_type": "code",
      "source": [
        "z = torch.einsum('i,ij->j', w, V)\n",
        "print(z)"
      ],
      "metadata": {
        "colab": {
          "base_uri": "https://localhost:8080/"
        },
        "id": "u0o_t83mZ-yD",
        "outputId": "eb27c366-97d2-4a15-9831-d159901c229c"
      },
      "execution_count": 11,
      "outputs": [
        {
          "output_type": "stream",
          "name": "stdout",
          "text": [
            "tensor([3.6000, 4.6000])\n"
          ]
        }
      ]
    },
    {
      "cell_type": "code",
      "source": [
        "#Oczekiwany wynik [3.6000, 4.6000]"
      ],
      "metadata": {
        "id": "WiGY50BAhng2"
      },
      "execution_count": null,
      "outputs": []
    },
    {
      "cell_type": "markdown",
      "source": [
        "Dla trójwymiarowej macierzy `A` wyznacz sumę elementów po drugiej i trzeciej współrzędnej:\n",
        "$$\\mathbf{z}_i = \\sum_{j,k} \\mathbf{A}_{ijk}$$"
      ],
      "metadata": {
        "id": "W8TwJXwRj9Pp"
      }
    },
    {
      "cell_type": "code",
      "source": [
        "A = torch.tensor(\n",
        "    [[[1, 2], [3, 4], [5, 6]],\n",
        "     [[2, 5], [1, 7], [1, 3]]]\n",
        "    )\n",
        "print(A.shape)"
      ],
      "metadata": {
        "id": "meuvkus-j9g3",
        "colab": {
          "base_uri": "https://localhost:8080/"
        },
        "outputId": "ecc9bf13-fc73-4067-f4eb-41c49e0a6a7f"
      },
      "execution_count": 13,
      "outputs": [
        {
          "output_type": "stream",
          "name": "stdout",
          "text": [
            "torch.Size([2, 3, 2])\n"
          ]
        }
      ]
    },
    {
      "cell_type": "code",
      "source": [
        "z = torch.einsum('ijk->i', A)\n",
        "print(z)"
      ],
      "metadata": {
        "id": "-M1ZxOveKPkP",
        "colab": {
          "base_uri": "https://localhost:8080/"
        },
        "outputId": "9c13f95e-6986-46c0-f484-c3bd00f066b2"
      },
      "execution_count": 14,
      "outputs": [
        {
          "output_type": "stream",
          "name": "stdout",
          "text": [
            "tensor([21, 19])\n"
          ]
        }
      ]
    },
    {
      "cell_type": "code",
      "source": [
        "#Oczekiwany wynik: [21, 19]"
      ],
      "metadata": {
        "id": "B8iumeAUlGIH"
      },
      "execution_count": null,
      "outputs": []
    }
  ],
  "metadata": {
    "accelerator": "GPU",
    "colab": {
      "gpuType": "T4",
      "toc_visible": true,
      "provenance": []
    },
    "kernelspec": {
      "display_name": "Python 3",
      "name": "python3"
    },
    "language_info": {
      "name": "python"
    }
  },
  "nbformat": 4,
  "nbformat_minor": 0
}